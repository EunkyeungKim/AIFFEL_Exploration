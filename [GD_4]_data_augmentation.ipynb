{
  "nbformat": 4,
  "nbformat_minor": 0,
  "metadata": {
    "colab": {
      "name": "[GD-4] data_augmentation.ipynb",
      "provenance": [],
      "collapsed_sections": []
    },
    "kernelspec": {
      "name": "python3",
      "display_name": "Python 3"
    },
    "language_info": {
      "name": "python"
    },
    "accelerator": "GPU",
    "widgets": {
      "application/vnd.jupyter.widget-state+json": {
        "41dee120761e406ab67e5b2c3d3b0b00": {
          "model_module": "@jupyter-widgets/controls",
          "model_name": "HBoxModel",
          "model_module_version": "1.5.0",
          "state": {
            "_dom_classes": [],
            "_model_module": "@jupyter-widgets/controls",
            "_model_module_version": "1.5.0",
            "_model_name": "HBoxModel",
            "_view_count": null,
            "_view_module": "@jupyter-widgets/controls",
            "_view_module_version": "1.5.0",
            "_view_name": "HBoxView",
            "box_style": "",
            "children": [
              "IPY_MODEL_268bad55f37e40f9b34aedc61922a1b6",
              "IPY_MODEL_f45ada62c54b46c4adf541249b1cb229",
              "IPY_MODEL_e56ad427168c411f8f984a1479bc0c6b"
            ],
            "layout": "IPY_MODEL_72232442d5434e06b2f79e6b8000b37d"
          }
        },
        "268bad55f37e40f9b34aedc61922a1b6": {
          "model_module": "@jupyter-widgets/controls",
          "model_name": "HTMLModel",
          "model_module_version": "1.5.0",
          "state": {
            "_dom_classes": [],
            "_model_module": "@jupyter-widgets/controls",
            "_model_module_version": "1.5.0",
            "_model_name": "HTMLModel",
            "_view_count": null,
            "_view_module": "@jupyter-widgets/controls",
            "_view_module_version": "1.5.0",
            "_view_name": "HTMLView",
            "description": "",
            "description_tooltip": null,
            "layout": "IPY_MODEL_43d03d5b3f4247a1927863ad8dadde29",
            "placeholder": "​",
            "style": "IPY_MODEL_6e2172c62cf74db0acf2c3731ca6fe7b",
            "value": "Dl Completed...: 100%"
          }
        },
        "f45ada62c54b46c4adf541249b1cb229": {
          "model_module": "@jupyter-widgets/controls",
          "model_name": "FloatProgressModel",
          "model_module_version": "1.5.0",
          "state": {
            "_dom_classes": [],
            "_model_module": "@jupyter-widgets/controls",
            "_model_module_version": "1.5.0",
            "_model_name": "FloatProgressModel",
            "_view_count": null,
            "_view_module": "@jupyter-widgets/controls",
            "_view_module_version": "1.5.0",
            "_view_name": "ProgressView",
            "bar_style": "success",
            "description": "",
            "description_tooltip": null,
            "layout": "IPY_MODEL_ca5d94f26a97415382d66e0e3f6ab545",
            "max": 1,
            "min": 0,
            "orientation": "horizontal",
            "style": "IPY_MODEL_07862df811664d65a07305ca86a1a46c",
            "value": 1
          }
        },
        "e56ad427168c411f8f984a1479bc0c6b": {
          "model_module": "@jupyter-widgets/controls",
          "model_name": "HTMLModel",
          "model_module_version": "1.5.0",
          "state": {
            "_dom_classes": [],
            "_model_module": "@jupyter-widgets/controls",
            "_model_module_version": "1.5.0",
            "_model_name": "HTMLModel",
            "_view_count": null,
            "_view_module": "@jupyter-widgets/controls",
            "_view_module_version": "1.5.0",
            "_view_name": "HTMLView",
            "description": "",
            "description_tooltip": null,
            "layout": "IPY_MODEL_a55ee3cdb2da4c5082c45cdc2b28766e",
            "placeholder": "​",
            "style": "IPY_MODEL_03ff73d4e7aa4819bcf032d48d5052c2",
            "value": " 1/1 [00:22&lt;00:00, 22.04s/ url]"
          }
        },
        "72232442d5434e06b2f79e6b8000b37d": {
          "model_module": "@jupyter-widgets/base",
          "model_name": "LayoutModel",
          "model_module_version": "1.2.0",
          "state": {
            "_model_module": "@jupyter-widgets/base",
            "_model_module_version": "1.2.0",
            "_model_name": "LayoutModel",
            "_view_count": null,
            "_view_module": "@jupyter-widgets/base",
            "_view_module_version": "1.2.0",
            "_view_name": "LayoutView",
            "align_content": null,
            "align_items": null,
            "align_self": null,
            "border": null,
            "bottom": null,
            "display": null,
            "flex": null,
            "flex_flow": null,
            "grid_area": null,
            "grid_auto_columns": null,
            "grid_auto_flow": null,
            "grid_auto_rows": null,
            "grid_column": null,
            "grid_gap": null,
            "grid_row": null,
            "grid_template_areas": null,
            "grid_template_columns": null,
            "grid_template_rows": null,
            "height": null,
            "justify_content": null,
            "justify_items": null,
            "left": null,
            "margin": null,
            "max_height": null,
            "max_width": null,
            "min_height": null,
            "min_width": null,
            "object_fit": null,
            "object_position": null,
            "order": null,
            "overflow": null,
            "overflow_x": null,
            "overflow_y": null,
            "padding": null,
            "right": null,
            "top": null,
            "visibility": null,
            "width": null
          }
        },
        "43d03d5b3f4247a1927863ad8dadde29": {
          "model_module": "@jupyter-widgets/base",
          "model_name": "LayoutModel",
          "model_module_version": "1.2.0",
          "state": {
            "_model_module": "@jupyter-widgets/base",
            "_model_module_version": "1.2.0",
            "_model_name": "LayoutModel",
            "_view_count": null,
            "_view_module": "@jupyter-widgets/base",
            "_view_module_version": "1.2.0",
            "_view_name": "LayoutView",
            "align_content": null,
            "align_items": null,
            "align_self": null,
            "border": null,
            "bottom": null,
            "display": null,
            "flex": null,
            "flex_flow": null,
            "grid_area": null,
            "grid_auto_columns": null,
            "grid_auto_flow": null,
            "grid_auto_rows": null,
            "grid_column": null,
            "grid_gap": null,
            "grid_row": null,
            "grid_template_areas": null,
            "grid_template_columns": null,
            "grid_template_rows": null,
            "height": null,
            "justify_content": null,
            "justify_items": null,
            "left": null,
            "margin": null,
            "max_height": null,
            "max_width": null,
            "min_height": null,
            "min_width": null,
            "object_fit": null,
            "object_position": null,
            "order": null,
            "overflow": null,
            "overflow_x": null,
            "overflow_y": null,
            "padding": null,
            "right": null,
            "top": null,
            "visibility": null,
            "width": null
          }
        },
        "6e2172c62cf74db0acf2c3731ca6fe7b": {
          "model_module": "@jupyter-widgets/controls",
          "model_name": "DescriptionStyleModel",
          "model_module_version": "1.5.0",
          "state": {
            "_model_module": "@jupyter-widgets/controls",
            "_model_module_version": "1.5.0",
            "_model_name": "DescriptionStyleModel",
            "_view_count": null,
            "_view_module": "@jupyter-widgets/base",
            "_view_module_version": "1.2.0",
            "_view_name": "StyleView",
            "description_width": ""
          }
        },
        "ca5d94f26a97415382d66e0e3f6ab545": {
          "model_module": "@jupyter-widgets/base",
          "model_name": "LayoutModel",
          "model_module_version": "1.2.0",
          "state": {
            "_model_module": "@jupyter-widgets/base",
            "_model_module_version": "1.2.0",
            "_model_name": "LayoutModel",
            "_view_count": null,
            "_view_module": "@jupyter-widgets/base",
            "_view_module_version": "1.2.0",
            "_view_name": "LayoutView",
            "align_content": null,
            "align_items": null,
            "align_self": null,
            "border": null,
            "bottom": null,
            "display": null,
            "flex": null,
            "flex_flow": null,
            "grid_area": null,
            "grid_auto_columns": null,
            "grid_auto_flow": null,
            "grid_auto_rows": null,
            "grid_column": null,
            "grid_gap": null,
            "grid_row": null,
            "grid_template_areas": null,
            "grid_template_columns": null,
            "grid_template_rows": null,
            "height": null,
            "justify_content": null,
            "justify_items": null,
            "left": null,
            "margin": null,
            "max_height": null,
            "max_width": null,
            "min_height": null,
            "min_width": null,
            "object_fit": null,
            "object_position": null,
            "order": null,
            "overflow": null,
            "overflow_x": null,
            "overflow_y": null,
            "padding": null,
            "right": null,
            "top": null,
            "visibility": null,
            "width": "20px"
          }
        },
        "07862df811664d65a07305ca86a1a46c": {
          "model_module": "@jupyter-widgets/controls",
          "model_name": "ProgressStyleModel",
          "model_module_version": "1.5.0",
          "state": {
            "_model_module": "@jupyter-widgets/controls",
            "_model_module_version": "1.5.0",
            "_model_name": "ProgressStyleModel",
            "_view_count": null,
            "_view_module": "@jupyter-widgets/base",
            "_view_module_version": "1.2.0",
            "_view_name": "StyleView",
            "bar_color": null,
            "description_width": ""
          }
        },
        "a55ee3cdb2da4c5082c45cdc2b28766e": {
          "model_module": "@jupyter-widgets/base",
          "model_name": "LayoutModel",
          "model_module_version": "1.2.0",
          "state": {
            "_model_module": "@jupyter-widgets/base",
            "_model_module_version": "1.2.0",
            "_model_name": "LayoutModel",
            "_view_count": null,
            "_view_module": "@jupyter-widgets/base",
            "_view_module_version": "1.2.0",
            "_view_name": "LayoutView",
            "align_content": null,
            "align_items": null,
            "align_self": null,
            "border": null,
            "bottom": null,
            "display": null,
            "flex": null,
            "flex_flow": null,
            "grid_area": null,
            "grid_auto_columns": null,
            "grid_auto_flow": null,
            "grid_auto_rows": null,
            "grid_column": null,
            "grid_gap": null,
            "grid_row": null,
            "grid_template_areas": null,
            "grid_template_columns": null,
            "grid_template_rows": null,
            "height": null,
            "justify_content": null,
            "justify_items": null,
            "left": null,
            "margin": null,
            "max_height": null,
            "max_width": null,
            "min_height": null,
            "min_width": null,
            "object_fit": null,
            "object_position": null,
            "order": null,
            "overflow": null,
            "overflow_x": null,
            "overflow_y": null,
            "padding": null,
            "right": null,
            "top": null,
            "visibility": null,
            "width": null
          }
        },
        "03ff73d4e7aa4819bcf032d48d5052c2": {
          "model_module": "@jupyter-widgets/controls",
          "model_name": "DescriptionStyleModel",
          "model_module_version": "1.5.0",
          "state": {
            "_model_module": "@jupyter-widgets/controls",
            "_model_module_version": "1.5.0",
            "_model_name": "DescriptionStyleModel",
            "_view_count": null,
            "_view_module": "@jupyter-widgets/base",
            "_view_module_version": "1.2.0",
            "_view_name": "StyleView",
            "description_width": ""
          }
        },
        "358cd6e9e19f47a0a711d577741b540d": {
          "model_module": "@jupyter-widgets/controls",
          "model_name": "HBoxModel",
          "model_module_version": "1.5.0",
          "state": {
            "_dom_classes": [],
            "_model_module": "@jupyter-widgets/controls",
            "_model_module_version": "1.5.0",
            "_model_name": "HBoxModel",
            "_view_count": null,
            "_view_module": "@jupyter-widgets/controls",
            "_view_module_version": "1.5.0",
            "_view_name": "HBoxView",
            "box_style": "",
            "children": [
              "IPY_MODEL_f03993153ce94855b38f77b0facb283d",
              "IPY_MODEL_c3eaba56680744608de201265fe173c6",
              "IPY_MODEL_d5be5c8fbac54cd0b6b8256556905d2a"
            ],
            "layout": "IPY_MODEL_2261a2f1c2ce494788a8ddbbb7ec36cc"
          }
        },
        "f03993153ce94855b38f77b0facb283d": {
          "model_module": "@jupyter-widgets/controls",
          "model_name": "HTMLModel",
          "model_module_version": "1.5.0",
          "state": {
            "_dom_classes": [],
            "_model_module": "@jupyter-widgets/controls",
            "_model_module_version": "1.5.0",
            "_model_name": "HTMLModel",
            "_view_count": null,
            "_view_module": "@jupyter-widgets/controls",
            "_view_module_version": "1.5.0",
            "_view_name": "HTMLView",
            "description": "",
            "description_tooltip": null,
            "layout": "IPY_MODEL_619467635569482487255050c069c2ad",
            "placeholder": "​",
            "style": "IPY_MODEL_c0b62a6e277f408b8cab776d3609855d",
            "value": "Dl Size...: 100%"
          }
        },
        "c3eaba56680744608de201265fe173c6": {
          "model_module": "@jupyter-widgets/controls",
          "model_name": "FloatProgressModel",
          "model_module_version": "1.5.0",
          "state": {
            "_dom_classes": [],
            "_model_module": "@jupyter-widgets/controls",
            "_model_module_version": "1.5.0",
            "_model_name": "FloatProgressModel",
            "_view_count": null,
            "_view_module": "@jupyter-widgets/controls",
            "_view_module_version": "1.5.0",
            "_view_name": "ProgressView",
            "bar_style": "success",
            "description": "",
            "description_tooltip": null,
            "layout": "IPY_MODEL_ab95a93b09994dd585a4d7f00294b156",
            "max": 1,
            "min": 0,
            "orientation": "horizontal",
            "style": "IPY_MODEL_2095e7df417e422b8efc574c0067df4d",
            "value": 1
          }
        },
        "d5be5c8fbac54cd0b6b8256556905d2a": {
          "model_module": "@jupyter-widgets/controls",
          "model_name": "HTMLModel",
          "model_module_version": "1.5.0",
          "state": {
            "_dom_classes": [],
            "_model_module": "@jupyter-widgets/controls",
            "_model_module_version": "1.5.0",
            "_model_name": "HTMLModel",
            "_view_count": null,
            "_view_module": "@jupyter-widgets/controls",
            "_view_module_version": "1.5.0",
            "_view_name": "HTMLView",
            "description": "",
            "description_tooltip": null,
            "layout": "IPY_MODEL_e472aa307a244419be972335bd0f5dde",
            "placeholder": "​",
            "style": "IPY_MODEL_92a5c549b38a47b8a06b2ddf4b478fca",
            "value": " 756/756 [00:22&lt;00:00, 37.60 MiB/s]"
          }
        },
        "2261a2f1c2ce494788a8ddbbb7ec36cc": {
          "model_module": "@jupyter-widgets/base",
          "model_name": "LayoutModel",
          "model_module_version": "1.2.0",
          "state": {
            "_model_module": "@jupyter-widgets/base",
            "_model_module_version": "1.2.0",
            "_model_name": "LayoutModel",
            "_view_count": null,
            "_view_module": "@jupyter-widgets/base",
            "_view_module_version": "1.2.0",
            "_view_name": "LayoutView",
            "align_content": null,
            "align_items": null,
            "align_self": null,
            "border": null,
            "bottom": null,
            "display": null,
            "flex": null,
            "flex_flow": null,
            "grid_area": null,
            "grid_auto_columns": null,
            "grid_auto_flow": null,
            "grid_auto_rows": null,
            "grid_column": null,
            "grid_gap": null,
            "grid_row": null,
            "grid_template_areas": null,
            "grid_template_columns": null,
            "grid_template_rows": null,
            "height": null,
            "justify_content": null,
            "justify_items": null,
            "left": null,
            "margin": null,
            "max_height": null,
            "max_width": null,
            "min_height": null,
            "min_width": null,
            "object_fit": null,
            "object_position": null,
            "order": null,
            "overflow": null,
            "overflow_x": null,
            "overflow_y": null,
            "padding": null,
            "right": null,
            "top": null,
            "visibility": null,
            "width": null
          }
        },
        "619467635569482487255050c069c2ad": {
          "model_module": "@jupyter-widgets/base",
          "model_name": "LayoutModel",
          "model_module_version": "1.2.0",
          "state": {
            "_model_module": "@jupyter-widgets/base",
            "_model_module_version": "1.2.0",
            "_model_name": "LayoutModel",
            "_view_count": null,
            "_view_module": "@jupyter-widgets/base",
            "_view_module_version": "1.2.0",
            "_view_name": "LayoutView",
            "align_content": null,
            "align_items": null,
            "align_self": null,
            "border": null,
            "bottom": null,
            "display": null,
            "flex": null,
            "flex_flow": null,
            "grid_area": null,
            "grid_auto_columns": null,
            "grid_auto_flow": null,
            "grid_auto_rows": null,
            "grid_column": null,
            "grid_gap": null,
            "grid_row": null,
            "grid_template_areas": null,
            "grid_template_columns": null,
            "grid_template_rows": null,
            "height": null,
            "justify_content": null,
            "justify_items": null,
            "left": null,
            "margin": null,
            "max_height": null,
            "max_width": null,
            "min_height": null,
            "min_width": null,
            "object_fit": null,
            "object_position": null,
            "order": null,
            "overflow": null,
            "overflow_x": null,
            "overflow_y": null,
            "padding": null,
            "right": null,
            "top": null,
            "visibility": null,
            "width": null
          }
        },
        "c0b62a6e277f408b8cab776d3609855d": {
          "model_module": "@jupyter-widgets/controls",
          "model_name": "DescriptionStyleModel",
          "model_module_version": "1.5.0",
          "state": {
            "_model_module": "@jupyter-widgets/controls",
            "_model_module_version": "1.5.0",
            "_model_name": "DescriptionStyleModel",
            "_view_count": null,
            "_view_module": "@jupyter-widgets/base",
            "_view_module_version": "1.2.0",
            "_view_name": "StyleView",
            "description_width": ""
          }
        },
        "ab95a93b09994dd585a4d7f00294b156": {
          "model_module": "@jupyter-widgets/base",
          "model_name": "LayoutModel",
          "model_module_version": "1.2.0",
          "state": {
            "_model_module": "@jupyter-widgets/base",
            "_model_module_version": "1.2.0",
            "_model_name": "LayoutModel",
            "_view_count": null,
            "_view_module": "@jupyter-widgets/base",
            "_view_module_version": "1.2.0",
            "_view_name": "LayoutView",
            "align_content": null,
            "align_items": null,
            "align_self": null,
            "border": null,
            "bottom": null,
            "display": null,
            "flex": null,
            "flex_flow": null,
            "grid_area": null,
            "grid_auto_columns": null,
            "grid_auto_flow": null,
            "grid_auto_rows": null,
            "grid_column": null,
            "grid_gap": null,
            "grid_row": null,
            "grid_template_areas": null,
            "grid_template_columns": null,
            "grid_template_rows": null,
            "height": null,
            "justify_content": null,
            "justify_items": null,
            "left": null,
            "margin": null,
            "max_height": null,
            "max_width": null,
            "min_height": null,
            "min_width": null,
            "object_fit": null,
            "object_position": null,
            "order": null,
            "overflow": null,
            "overflow_x": null,
            "overflow_y": null,
            "padding": null,
            "right": null,
            "top": null,
            "visibility": null,
            "width": "20px"
          }
        },
        "2095e7df417e422b8efc574c0067df4d": {
          "model_module": "@jupyter-widgets/controls",
          "model_name": "ProgressStyleModel",
          "model_module_version": "1.5.0",
          "state": {
            "_model_module": "@jupyter-widgets/controls",
            "_model_module_version": "1.5.0",
            "_model_name": "ProgressStyleModel",
            "_view_count": null,
            "_view_module": "@jupyter-widgets/base",
            "_view_module_version": "1.2.0",
            "_view_name": "StyleView",
            "bar_color": null,
            "description_width": ""
          }
        },
        "e472aa307a244419be972335bd0f5dde": {
          "model_module": "@jupyter-widgets/base",
          "model_name": "LayoutModel",
          "model_module_version": "1.2.0",
          "state": {
            "_model_module": "@jupyter-widgets/base",
            "_model_module_version": "1.2.0",
            "_model_name": "LayoutModel",
            "_view_count": null,
            "_view_module": "@jupyter-widgets/base",
            "_view_module_version": "1.2.0",
            "_view_name": "LayoutView",
            "align_content": null,
            "align_items": null,
            "align_self": null,
            "border": null,
            "bottom": null,
            "display": null,
            "flex": null,
            "flex_flow": null,
            "grid_area": null,
            "grid_auto_columns": null,
            "grid_auto_flow": null,
            "grid_auto_rows": null,
            "grid_column": null,
            "grid_gap": null,
            "grid_row": null,
            "grid_template_areas": null,
            "grid_template_columns": null,
            "grid_template_rows": null,
            "height": null,
            "justify_content": null,
            "justify_items": null,
            "left": null,
            "margin": null,
            "max_height": null,
            "max_width": null,
            "min_height": null,
            "min_width": null,
            "object_fit": null,
            "object_position": null,
            "order": null,
            "overflow": null,
            "overflow_x": null,
            "overflow_y": null,
            "padding": null,
            "right": null,
            "top": null,
            "visibility": null,
            "width": null
          }
        },
        "92a5c549b38a47b8a06b2ddf4b478fca": {
          "model_module": "@jupyter-widgets/controls",
          "model_name": "DescriptionStyleModel",
          "model_module_version": "1.5.0",
          "state": {
            "_model_module": "@jupyter-widgets/controls",
            "_model_module_version": "1.5.0",
            "_model_name": "DescriptionStyleModel",
            "_view_count": null,
            "_view_module": "@jupyter-widgets/base",
            "_view_module_version": "1.2.0",
            "_view_name": "StyleView",
            "description_width": ""
          }
        },
        "8d413d0cada345f6a4bf69e304a2ade2": {
          "model_module": "@jupyter-widgets/controls",
          "model_name": "HBoxModel",
          "model_module_version": "1.5.0",
          "state": {
            "_dom_classes": [],
            "_model_module": "@jupyter-widgets/controls",
            "_model_module_version": "1.5.0",
            "_model_name": "HBoxModel",
            "_view_count": null,
            "_view_module": "@jupyter-widgets/controls",
            "_view_module_version": "1.5.0",
            "_view_name": "HBoxView",
            "box_style": "",
            "children": [
              "IPY_MODEL_7772b47f6312462eabfbf53a47d859fd",
              "IPY_MODEL_1b1761ab8b914cd08c897976dda49cd0",
              "IPY_MODEL_37b8ea5993bb43cca9cf29b48bc31ad5"
            ],
            "layout": "IPY_MODEL_5629b9d334e14eacbc28bb93dc654fe7"
          }
        },
        "7772b47f6312462eabfbf53a47d859fd": {
          "model_module": "@jupyter-widgets/controls",
          "model_name": "HTMLModel",
          "model_module_version": "1.5.0",
          "state": {
            "_dom_classes": [],
            "_model_module": "@jupyter-widgets/controls",
            "_model_module_version": "1.5.0",
            "_model_name": "HTMLModel",
            "_view_count": null,
            "_view_module": "@jupyter-widgets/controls",
            "_view_module_version": "1.5.0",
            "_view_name": "HTMLView",
            "description": "",
            "description_tooltip": null,
            "layout": "IPY_MODEL_e07bfb3c4b8c4bfcaf4711c7cd349c02",
            "placeholder": "​",
            "style": "IPY_MODEL_b6f93d7a68ef49bf8bf46b3c1a339c4d",
            "value": "Dl Completed...: 100%"
          }
        },
        "1b1761ab8b914cd08c897976dda49cd0": {
          "model_module": "@jupyter-widgets/controls",
          "model_name": "FloatProgressModel",
          "model_module_version": "1.5.0",
          "state": {
            "_dom_classes": [],
            "_model_module": "@jupyter-widgets/controls",
            "_model_module_version": "1.5.0",
            "_model_name": "FloatProgressModel",
            "_view_count": null,
            "_view_module": "@jupyter-widgets/controls",
            "_view_module_version": "1.5.0",
            "_view_name": "ProgressView",
            "bar_style": "success",
            "description": "",
            "description_tooltip": null,
            "layout": "IPY_MODEL_1fd5b0c152434ac88f6d92c044744b64",
            "max": 1,
            "min": 0,
            "orientation": "horizontal",
            "style": "IPY_MODEL_c2b8c7de47654d4489f312efd3e2c0a3",
            "value": 1
          }
        },
        "37b8ea5993bb43cca9cf29b48bc31ad5": {
          "model_module": "@jupyter-widgets/controls",
          "model_name": "HTMLModel",
          "model_module_version": "1.5.0",
          "state": {
            "_dom_classes": [],
            "_model_module": "@jupyter-widgets/controls",
            "_model_module_version": "1.5.0",
            "_model_name": "HTMLModel",
            "_view_count": null,
            "_view_module": "@jupyter-widgets/controls",
            "_view_module_version": "1.5.0",
            "_view_name": "HTMLView",
            "description": "",
            "description_tooltip": null,
            "layout": "IPY_MODEL_1b6292ec537d457492a933239c492717",
            "placeholder": "​",
            "style": "IPY_MODEL_182a1f3f968b40c38920c259ab8999c8",
            "value": " 2/2 [00:06&lt;00:00,  1.40s/ url]"
          }
        },
        "5629b9d334e14eacbc28bb93dc654fe7": {
          "model_module": "@jupyter-widgets/base",
          "model_name": "LayoutModel",
          "model_module_version": "1.2.0",
          "state": {
            "_model_module": "@jupyter-widgets/base",
            "_model_module_version": "1.2.0",
            "_model_name": "LayoutModel",
            "_view_count": null,
            "_view_module": "@jupyter-widgets/base",
            "_view_module_version": "1.2.0",
            "_view_name": "LayoutView",
            "align_content": null,
            "align_items": null,
            "align_self": null,
            "border": null,
            "bottom": null,
            "display": null,
            "flex": null,
            "flex_flow": null,
            "grid_area": null,
            "grid_auto_columns": null,
            "grid_auto_flow": null,
            "grid_auto_rows": null,
            "grid_column": null,
            "grid_gap": null,
            "grid_row": null,
            "grid_template_areas": null,
            "grid_template_columns": null,
            "grid_template_rows": null,
            "height": null,
            "justify_content": null,
            "justify_items": null,
            "left": null,
            "margin": null,
            "max_height": null,
            "max_width": null,
            "min_height": null,
            "min_width": null,
            "object_fit": null,
            "object_position": null,
            "order": null,
            "overflow": null,
            "overflow_x": null,
            "overflow_y": null,
            "padding": null,
            "right": null,
            "top": null,
            "visibility": null,
            "width": null
          }
        },
        "e07bfb3c4b8c4bfcaf4711c7cd349c02": {
          "model_module": "@jupyter-widgets/base",
          "model_name": "LayoutModel",
          "model_module_version": "1.2.0",
          "state": {
            "_model_module": "@jupyter-widgets/base",
            "_model_module_version": "1.2.0",
            "_model_name": "LayoutModel",
            "_view_count": null,
            "_view_module": "@jupyter-widgets/base",
            "_view_module_version": "1.2.0",
            "_view_name": "LayoutView",
            "align_content": null,
            "align_items": null,
            "align_self": null,
            "border": null,
            "bottom": null,
            "display": null,
            "flex": null,
            "flex_flow": null,
            "grid_area": null,
            "grid_auto_columns": null,
            "grid_auto_flow": null,
            "grid_auto_rows": null,
            "grid_column": null,
            "grid_gap": null,
            "grid_row": null,
            "grid_template_areas": null,
            "grid_template_columns": null,
            "grid_template_rows": null,
            "height": null,
            "justify_content": null,
            "justify_items": null,
            "left": null,
            "margin": null,
            "max_height": null,
            "max_width": null,
            "min_height": null,
            "min_width": null,
            "object_fit": null,
            "object_position": null,
            "order": null,
            "overflow": null,
            "overflow_x": null,
            "overflow_y": null,
            "padding": null,
            "right": null,
            "top": null,
            "visibility": null,
            "width": null
          }
        },
        "b6f93d7a68ef49bf8bf46b3c1a339c4d": {
          "model_module": "@jupyter-widgets/controls",
          "model_name": "DescriptionStyleModel",
          "model_module_version": "1.5.0",
          "state": {
            "_model_module": "@jupyter-widgets/controls",
            "_model_module_version": "1.5.0",
            "_model_name": "DescriptionStyleModel",
            "_view_count": null,
            "_view_module": "@jupyter-widgets/base",
            "_view_module_version": "1.2.0",
            "_view_name": "StyleView",
            "description_width": ""
          }
        },
        "1fd5b0c152434ac88f6d92c044744b64": {
          "model_module": "@jupyter-widgets/base",
          "model_name": "LayoutModel",
          "model_module_version": "1.2.0",
          "state": {
            "_model_module": "@jupyter-widgets/base",
            "_model_module_version": "1.2.0",
            "_model_name": "LayoutModel",
            "_view_count": null,
            "_view_module": "@jupyter-widgets/base",
            "_view_module_version": "1.2.0",
            "_view_name": "LayoutView",
            "align_content": null,
            "align_items": null,
            "align_self": null,
            "border": null,
            "bottom": null,
            "display": null,
            "flex": null,
            "flex_flow": null,
            "grid_area": null,
            "grid_auto_columns": null,
            "grid_auto_flow": null,
            "grid_auto_rows": null,
            "grid_column": null,
            "grid_gap": null,
            "grid_row": null,
            "grid_template_areas": null,
            "grid_template_columns": null,
            "grid_template_rows": null,
            "height": null,
            "justify_content": null,
            "justify_items": null,
            "left": null,
            "margin": null,
            "max_height": null,
            "max_width": null,
            "min_height": null,
            "min_width": null,
            "object_fit": null,
            "object_position": null,
            "order": null,
            "overflow": null,
            "overflow_x": null,
            "overflow_y": null,
            "padding": null,
            "right": null,
            "top": null,
            "visibility": null,
            "width": "20px"
          }
        },
        "c2b8c7de47654d4489f312efd3e2c0a3": {
          "model_module": "@jupyter-widgets/controls",
          "model_name": "ProgressStyleModel",
          "model_module_version": "1.5.0",
          "state": {
            "_model_module": "@jupyter-widgets/controls",
            "_model_module_version": "1.5.0",
            "_model_name": "ProgressStyleModel",
            "_view_count": null,
            "_view_module": "@jupyter-widgets/base",
            "_view_module_version": "1.2.0",
            "_view_name": "StyleView",
            "bar_color": null,
            "description_width": ""
          }
        },
        "1b6292ec537d457492a933239c492717": {
          "model_module": "@jupyter-widgets/base",
          "model_name": "LayoutModel",
          "model_module_version": "1.2.0",
          "state": {
            "_model_module": "@jupyter-widgets/base",
            "_model_module_version": "1.2.0",
            "_model_name": "LayoutModel",
            "_view_count": null,
            "_view_module": "@jupyter-widgets/base",
            "_view_module_version": "1.2.0",
            "_view_name": "LayoutView",
            "align_content": null,
            "align_items": null,
            "align_self": null,
            "border": null,
            "bottom": null,
            "display": null,
            "flex": null,
            "flex_flow": null,
            "grid_area": null,
            "grid_auto_columns": null,
            "grid_auto_flow": null,
            "grid_auto_rows": null,
            "grid_column": null,
            "grid_gap": null,
            "grid_row": null,
            "grid_template_areas": null,
            "grid_template_columns": null,
            "grid_template_rows": null,
            "height": null,
            "justify_content": null,
            "justify_items": null,
            "left": null,
            "margin": null,
            "max_height": null,
            "max_width": null,
            "min_height": null,
            "min_width": null,
            "object_fit": null,
            "object_position": null,
            "order": null,
            "overflow": null,
            "overflow_x": null,
            "overflow_y": null,
            "padding": null,
            "right": null,
            "top": null,
            "visibility": null,
            "width": null
          }
        },
        "182a1f3f968b40c38920c259ab8999c8": {
          "model_module": "@jupyter-widgets/controls",
          "model_name": "DescriptionStyleModel",
          "model_module_version": "1.5.0",
          "state": {
            "_model_module": "@jupyter-widgets/controls",
            "_model_module_version": "1.5.0",
            "_model_name": "DescriptionStyleModel",
            "_view_count": null,
            "_view_module": "@jupyter-widgets/base",
            "_view_module_version": "1.2.0",
            "_view_name": "StyleView",
            "description_width": ""
          }
        },
        "e760cb1a227b49c78a32dd40de7cf8a4": {
          "model_module": "@jupyter-widgets/controls",
          "model_name": "HBoxModel",
          "model_module_version": "1.5.0",
          "state": {
            "_dom_classes": [],
            "_model_module": "@jupyter-widgets/controls",
            "_model_module_version": "1.5.0",
            "_model_name": "HBoxModel",
            "_view_count": null,
            "_view_module": "@jupyter-widgets/controls",
            "_view_module_version": "1.5.0",
            "_view_name": "HBoxView",
            "box_style": "",
            "children": [
              "IPY_MODEL_25f1d6930dc243f39588a2a20c1ee9fe",
              "IPY_MODEL_f05e1f56ada94811bcccab3314fe11f2",
              "IPY_MODEL_c9ccf596fa744b94ac2b5f645e641597"
            ],
            "layout": "IPY_MODEL_696cdc2245a04c83aab50a6293c6b7f1"
          }
        },
        "25f1d6930dc243f39588a2a20c1ee9fe": {
          "model_module": "@jupyter-widgets/controls",
          "model_name": "HTMLModel",
          "model_module_version": "1.5.0",
          "state": {
            "_dom_classes": [],
            "_model_module": "@jupyter-widgets/controls",
            "_model_module_version": "1.5.0",
            "_model_name": "HTMLModel",
            "_view_count": null,
            "_view_module": "@jupyter-widgets/controls",
            "_view_module_version": "1.5.0",
            "_view_name": "HTMLView",
            "description": "",
            "description_tooltip": null,
            "layout": "IPY_MODEL_90f454ee4f7e4f73b509980bca606d08",
            "placeholder": "​",
            "style": "IPY_MODEL_a0bb0caae0e646d0bdb5b1d62fec7de6",
            "value": "Dl Size...: 100%"
          }
        },
        "f05e1f56ada94811bcccab3314fe11f2": {
          "model_module": "@jupyter-widgets/controls",
          "model_name": "FloatProgressModel",
          "model_module_version": "1.5.0",
          "state": {
            "_dom_classes": [],
            "_model_module": "@jupyter-widgets/controls",
            "_model_module_version": "1.5.0",
            "_model_name": "FloatProgressModel",
            "_view_count": null,
            "_view_module": "@jupyter-widgets/controls",
            "_view_module_version": "1.5.0",
            "_view_name": "ProgressView",
            "bar_style": "success",
            "description": "",
            "description_tooltip": null,
            "layout": "IPY_MODEL_a1b2942ef5c8447a85f908cd9fa99995",
            "max": 1,
            "min": 0,
            "orientation": "horizontal",
            "style": "IPY_MODEL_5fb31a1c46834fb7a9d371987cfe8306",
            "value": 1
          }
        },
        "c9ccf596fa744b94ac2b5f645e641597": {
          "model_module": "@jupyter-widgets/controls",
          "model_name": "HTMLModel",
          "model_module_version": "1.5.0",
          "state": {
            "_dom_classes": [],
            "_model_module": "@jupyter-widgets/controls",
            "_model_module_version": "1.5.0",
            "_model_name": "HTMLModel",
            "_view_count": null,
            "_view_module": "@jupyter-widgets/controls",
            "_view_module_version": "1.5.0",
            "_view_name": "HTMLView",
            "description": "",
            "description_tooltip": null,
            "layout": "IPY_MODEL_eca84eb9ca9640f4a5438ced4a3c4c64",
            "placeholder": "​",
            "style": "IPY_MODEL_fef32eee5cb74161bd2fad0c48e45c01",
            "value": " 20/20 [00:06&lt;00:00, 17.94 MiB/s]"
          }
        },
        "696cdc2245a04c83aab50a6293c6b7f1": {
          "model_module": "@jupyter-widgets/base",
          "model_name": "LayoutModel",
          "model_module_version": "1.2.0",
          "state": {
            "_model_module": "@jupyter-widgets/base",
            "_model_module_version": "1.2.0",
            "_model_name": "LayoutModel",
            "_view_count": null,
            "_view_module": "@jupyter-widgets/base",
            "_view_module_version": "1.2.0",
            "_view_name": "LayoutView",
            "align_content": null,
            "align_items": null,
            "align_self": null,
            "border": null,
            "bottom": null,
            "display": null,
            "flex": null,
            "flex_flow": null,
            "grid_area": null,
            "grid_auto_columns": null,
            "grid_auto_flow": null,
            "grid_auto_rows": null,
            "grid_column": null,
            "grid_gap": null,
            "grid_row": null,
            "grid_template_areas": null,
            "grid_template_columns": null,
            "grid_template_rows": null,
            "height": null,
            "justify_content": null,
            "justify_items": null,
            "left": null,
            "margin": null,
            "max_height": null,
            "max_width": null,
            "min_height": null,
            "min_width": null,
            "object_fit": null,
            "object_position": null,
            "order": null,
            "overflow": null,
            "overflow_x": null,
            "overflow_y": null,
            "padding": null,
            "right": null,
            "top": null,
            "visibility": null,
            "width": null
          }
        },
        "90f454ee4f7e4f73b509980bca606d08": {
          "model_module": "@jupyter-widgets/base",
          "model_name": "LayoutModel",
          "model_module_version": "1.2.0",
          "state": {
            "_model_module": "@jupyter-widgets/base",
            "_model_module_version": "1.2.0",
            "_model_name": "LayoutModel",
            "_view_count": null,
            "_view_module": "@jupyter-widgets/base",
            "_view_module_version": "1.2.0",
            "_view_name": "LayoutView",
            "align_content": null,
            "align_items": null,
            "align_self": null,
            "border": null,
            "bottom": null,
            "display": null,
            "flex": null,
            "flex_flow": null,
            "grid_area": null,
            "grid_auto_columns": null,
            "grid_auto_flow": null,
            "grid_auto_rows": null,
            "grid_column": null,
            "grid_gap": null,
            "grid_row": null,
            "grid_template_areas": null,
            "grid_template_columns": null,
            "grid_template_rows": null,
            "height": null,
            "justify_content": null,
            "justify_items": null,
            "left": null,
            "margin": null,
            "max_height": null,
            "max_width": null,
            "min_height": null,
            "min_width": null,
            "object_fit": null,
            "object_position": null,
            "order": null,
            "overflow": null,
            "overflow_x": null,
            "overflow_y": null,
            "padding": null,
            "right": null,
            "top": null,
            "visibility": null,
            "width": null
          }
        },
        "a0bb0caae0e646d0bdb5b1d62fec7de6": {
          "model_module": "@jupyter-widgets/controls",
          "model_name": "DescriptionStyleModel",
          "model_module_version": "1.5.0",
          "state": {
            "_model_module": "@jupyter-widgets/controls",
            "_model_module_version": "1.5.0",
            "_model_name": "DescriptionStyleModel",
            "_view_count": null,
            "_view_module": "@jupyter-widgets/base",
            "_view_module_version": "1.2.0",
            "_view_name": "StyleView",
            "description_width": ""
          }
        },
        "a1b2942ef5c8447a85f908cd9fa99995": {
          "model_module": "@jupyter-widgets/base",
          "model_name": "LayoutModel",
          "model_module_version": "1.2.0",
          "state": {
            "_model_module": "@jupyter-widgets/base",
            "_model_module_version": "1.2.0",
            "_model_name": "LayoutModel",
            "_view_count": null,
            "_view_module": "@jupyter-widgets/base",
            "_view_module_version": "1.2.0",
            "_view_name": "LayoutView",
            "align_content": null,
            "align_items": null,
            "align_self": null,
            "border": null,
            "bottom": null,
            "display": null,
            "flex": null,
            "flex_flow": null,
            "grid_area": null,
            "grid_auto_columns": null,
            "grid_auto_flow": null,
            "grid_auto_rows": null,
            "grid_column": null,
            "grid_gap": null,
            "grid_row": null,
            "grid_template_areas": null,
            "grid_template_columns": null,
            "grid_template_rows": null,
            "height": null,
            "justify_content": null,
            "justify_items": null,
            "left": null,
            "margin": null,
            "max_height": null,
            "max_width": null,
            "min_height": null,
            "min_width": null,
            "object_fit": null,
            "object_position": null,
            "order": null,
            "overflow": null,
            "overflow_x": null,
            "overflow_y": null,
            "padding": null,
            "right": null,
            "top": null,
            "visibility": null,
            "width": "20px"
          }
        },
        "5fb31a1c46834fb7a9d371987cfe8306": {
          "model_module": "@jupyter-widgets/controls",
          "model_name": "ProgressStyleModel",
          "model_module_version": "1.5.0",
          "state": {
            "_model_module": "@jupyter-widgets/controls",
            "_model_module_version": "1.5.0",
            "_model_name": "ProgressStyleModel",
            "_view_count": null,
            "_view_module": "@jupyter-widgets/base",
            "_view_module_version": "1.2.0",
            "_view_name": "StyleView",
            "bar_color": null,
            "description_width": ""
          }
        },
        "eca84eb9ca9640f4a5438ced4a3c4c64": {
          "model_module": "@jupyter-widgets/base",
          "model_name": "LayoutModel",
          "model_module_version": "1.2.0",
          "state": {
            "_model_module": "@jupyter-widgets/base",
            "_model_module_version": "1.2.0",
            "_model_name": "LayoutModel",
            "_view_count": null,
            "_view_module": "@jupyter-widgets/base",
            "_view_module_version": "1.2.0",
            "_view_name": "LayoutView",
            "align_content": null,
            "align_items": null,
            "align_self": null,
            "border": null,
            "bottom": null,
            "display": null,
            "flex": null,
            "flex_flow": null,
            "grid_area": null,
            "grid_auto_columns": null,
            "grid_auto_flow": null,
            "grid_auto_rows": null,
            "grid_column": null,
            "grid_gap": null,
            "grid_row": null,
            "grid_template_areas": null,
            "grid_template_columns": null,
            "grid_template_rows": null,
            "height": null,
            "justify_content": null,
            "justify_items": null,
            "left": null,
            "margin": null,
            "max_height": null,
            "max_width": null,
            "min_height": null,
            "min_width": null,
            "object_fit": null,
            "object_position": null,
            "order": null,
            "overflow": null,
            "overflow_x": null,
            "overflow_y": null,
            "padding": null,
            "right": null,
            "top": null,
            "visibility": null,
            "width": null
          }
        },
        "fef32eee5cb74161bd2fad0c48e45c01": {
          "model_module": "@jupyter-widgets/controls",
          "model_name": "DescriptionStyleModel",
          "model_module_version": "1.5.0",
          "state": {
            "_model_module": "@jupyter-widgets/controls",
            "_model_module_version": "1.5.0",
            "_model_name": "DescriptionStyleModel",
            "_view_count": null,
            "_view_module": "@jupyter-widgets/base",
            "_view_module_version": "1.2.0",
            "_view_name": "StyleView",
            "description_width": ""
          }
        },
        "498bdec4a1ca4f1a80c5a95d03fd3c49": {
          "model_module": "@jupyter-widgets/controls",
          "model_name": "HBoxModel",
          "model_module_version": "1.5.0",
          "state": {
            "_dom_classes": [],
            "_model_module": "@jupyter-widgets/controls",
            "_model_module_version": "1.5.0",
            "_model_name": "HBoxModel",
            "_view_count": null,
            "_view_module": "@jupyter-widgets/controls",
            "_view_module_version": "1.5.0",
            "_view_name": "HBoxView",
            "box_style": "",
            "children": [
              "IPY_MODEL_a24dce2e4a4a400a909b664306866d00",
              "IPY_MODEL_06edcb33e4694b848c6369b9c94c6148",
              "IPY_MODEL_135c56f08f634e7ea9fa522e3a77eeaf"
            ],
            "layout": "IPY_MODEL_8830ce472cdd44a8835fdb756dd9003f"
          }
        },
        "a24dce2e4a4a400a909b664306866d00": {
          "model_module": "@jupyter-widgets/controls",
          "model_name": "HTMLModel",
          "model_module_version": "1.5.0",
          "state": {
            "_dom_classes": [],
            "_model_module": "@jupyter-widgets/controls",
            "_model_module_version": "1.5.0",
            "_model_name": "HTMLModel",
            "_view_count": null,
            "_view_module": "@jupyter-widgets/controls",
            "_view_module_version": "1.5.0",
            "_view_name": "HTMLView",
            "description": "",
            "description_tooltip": null,
            "layout": "IPY_MODEL_ec2069e0ca2c49349cd2b5c9ee3fa7d4",
            "placeholder": "​",
            "style": "IPY_MODEL_c108352e802c449b91359a8c3818b4ba",
            "value": "Extraction completed...: 100%"
          }
        },
        "06edcb33e4694b848c6369b9c94c6148": {
          "model_module": "@jupyter-widgets/controls",
          "model_name": "FloatProgressModel",
          "model_module_version": "1.5.0",
          "state": {
            "_dom_classes": [],
            "_model_module": "@jupyter-widgets/controls",
            "_model_module_version": "1.5.0",
            "_model_name": "FloatProgressModel",
            "_view_count": null,
            "_view_module": "@jupyter-widgets/controls",
            "_view_module_version": "1.5.0",
            "_view_name": "ProgressView",
            "bar_style": "success",
            "description": "",
            "description_tooltip": null,
            "layout": "IPY_MODEL_bffc94cab6ff4ff7a3960549a298d2e1",
            "max": 1,
            "min": 0,
            "orientation": "horizontal",
            "style": "IPY_MODEL_2d386de8308f4c49b17ade0ee88828ba",
            "value": 1
          }
        },
        "135c56f08f634e7ea9fa522e3a77eeaf": {
          "model_module": "@jupyter-widgets/controls",
          "model_name": "HTMLModel",
          "model_module_version": "1.5.0",
          "state": {
            "_dom_classes": [],
            "_model_module": "@jupyter-widgets/controls",
            "_model_module_version": "1.5.0",
            "_model_name": "HTMLModel",
            "_view_count": null,
            "_view_module": "@jupyter-widgets/controls",
            "_view_module_version": "1.5.0",
            "_view_name": "HTMLView",
            "description": "",
            "description_tooltip": null,
            "layout": "IPY_MODEL_cb86c3dffa3a4297b07133ea3bc6413a",
            "placeholder": "​",
            "style": "IPY_MODEL_34e9fe6201bb4e46b899cbf3356d9b89",
            "value": " 2/2 [00:06&lt;00:00,  3.40s/ file]"
          }
        },
        "8830ce472cdd44a8835fdb756dd9003f": {
          "model_module": "@jupyter-widgets/base",
          "model_name": "LayoutModel",
          "model_module_version": "1.2.0",
          "state": {
            "_model_module": "@jupyter-widgets/base",
            "_model_module_version": "1.2.0",
            "_model_name": "LayoutModel",
            "_view_count": null,
            "_view_module": "@jupyter-widgets/base",
            "_view_module_version": "1.2.0",
            "_view_name": "LayoutView",
            "align_content": null,
            "align_items": null,
            "align_self": null,
            "border": null,
            "bottom": null,
            "display": null,
            "flex": null,
            "flex_flow": null,
            "grid_area": null,
            "grid_auto_columns": null,
            "grid_auto_flow": null,
            "grid_auto_rows": null,
            "grid_column": null,
            "grid_gap": null,
            "grid_row": null,
            "grid_template_areas": null,
            "grid_template_columns": null,
            "grid_template_rows": null,
            "height": null,
            "justify_content": null,
            "justify_items": null,
            "left": null,
            "margin": null,
            "max_height": null,
            "max_width": null,
            "min_height": null,
            "min_width": null,
            "object_fit": null,
            "object_position": null,
            "order": null,
            "overflow": null,
            "overflow_x": null,
            "overflow_y": null,
            "padding": null,
            "right": null,
            "top": null,
            "visibility": null,
            "width": null
          }
        },
        "ec2069e0ca2c49349cd2b5c9ee3fa7d4": {
          "model_module": "@jupyter-widgets/base",
          "model_name": "LayoutModel",
          "model_module_version": "1.2.0",
          "state": {
            "_model_module": "@jupyter-widgets/base",
            "_model_module_version": "1.2.0",
            "_model_name": "LayoutModel",
            "_view_count": null,
            "_view_module": "@jupyter-widgets/base",
            "_view_module_version": "1.2.0",
            "_view_name": "LayoutView",
            "align_content": null,
            "align_items": null,
            "align_self": null,
            "border": null,
            "bottom": null,
            "display": null,
            "flex": null,
            "flex_flow": null,
            "grid_area": null,
            "grid_auto_columns": null,
            "grid_auto_flow": null,
            "grid_auto_rows": null,
            "grid_column": null,
            "grid_gap": null,
            "grid_row": null,
            "grid_template_areas": null,
            "grid_template_columns": null,
            "grid_template_rows": null,
            "height": null,
            "justify_content": null,
            "justify_items": null,
            "left": null,
            "margin": null,
            "max_height": null,
            "max_width": null,
            "min_height": null,
            "min_width": null,
            "object_fit": null,
            "object_position": null,
            "order": null,
            "overflow": null,
            "overflow_x": null,
            "overflow_y": null,
            "padding": null,
            "right": null,
            "top": null,
            "visibility": null,
            "width": null
          }
        },
        "c108352e802c449b91359a8c3818b4ba": {
          "model_module": "@jupyter-widgets/controls",
          "model_name": "DescriptionStyleModel",
          "model_module_version": "1.5.0",
          "state": {
            "_model_module": "@jupyter-widgets/controls",
            "_model_module_version": "1.5.0",
            "_model_name": "DescriptionStyleModel",
            "_view_count": null,
            "_view_module": "@jupyter-widgets/base",
            "_view_module_version": "1.2.0",
            "_view_name": "StyleView",
            "description_width": ""
          }
        },
        "bffc94cab6ff4ff7a3960549a298d2e1": {
          "model_module": "@jupyter-widgets/base",
          "model_name": "LayoutModel",
          "model_module_version": "1.2.0",
          "state": {
            "_model_module": "@jupyter-widgets/base",
            "_model_module_version": "1.2.0",
            "_model_name": "LayoutModel",
            "_view_count": null,
            "_view_module": "@jupyter-widgets/base",
            "_view_module_version": "1.2.0",
            "_view_name": "LayoutView",
            "align_content": null,
            "align_items": null,
            "align_self": null,
            "border": null,
            "bottom": null,
            "display": null,
            "flex": null,
            "flex_flow": null,
            "grid_area": null,
            "grid_auto_columns": null,
            "grid_auto_flow": null,
            "grid_auto_rows": null,
            "grid_column": null,
            "grid_gap": null,
            "grid_row": null,
            "grid_template_areas": null,
            "grid_template_columns": null,
            "grid_template_rows": null,
            "height": null,
            "justify_content": null,
            "justify_items": null,
            "left": null,
            "margin": null,
            "max_height": null,
            "max_width": null,
            "min_height": null,
            "min_width": null,
            "object_fit": null,
            "object_position": null,
            "order": null,
            "overflow": null,
            "overflow_x": null,
            "overflow_y": null,
            "padding": null,
            "right": null,
            "top": null,
            "visibility": null,
            "width": "20px"
          }
        },
        "2d386de8308f4c49b17ade0ee88828ba": {
          "model_module": "@jupyter-widgets/controls",
          "model_name": "ProgressStyleModel",
          "model_module_version": "1.5.0",
          "state": {
            "_model_module": "@jupyter-widgets/controls",
            "_model_module_version": "1.5.0",
            "_model_name": "ProgressStyleModel",
            "_view_count": null,
            "_view_module": "@jupyter-widgets/base",
            "_view_module_version": "1.2.0",
            "_view_name": "StyleView",
            "bar_color": null,
            "description_width": ""
          }
        },
        "cb86c3dffa3a4297b07133ea3bc6413a": {
          "model_module": "@jupyter-widgets/base",
          "model_name": "LayoutModel",
          "model_module_version": "1.2.0",
          "state": {
            "_model_module": "@jupyter-widgets/base",
            "_model_module_version": "1.2.0",
            "_model_name": "LayoutModel",
            "_view_count": null,
            "_view_module": "@jupyter-widgets/base",
            "_view_module_version": "1.2.0",
            "_view_name": "LayoutView",
            "align_content": null,
            "align_items": null,
            "align_self": null,
            "border": null,
            "bottom": null,
            "display": null,
            "flex": null,
            "flex_flow": null,
            "grid_area": null,
            "grid_auto_columns": null,
            "grid_auto_flow": null,
            "grid_auto_rows": null,
            "grid_column": null,
            "grid_gap": null,
            "grid_row": null,
            "grid_template_areas": null,
            "grid_template_columns": null,
            "grid_template_rows": null,
            "height": null,
            "justify_content": null,
            "justify_items": null,
            "left": null,
            "margin": null,
            "max_height": null,
            "max_width": null,
            "min_height": null,
            "min_width": null,
            "object_fit": null,
            "object_position": null,
            "order": null,
            "overflow": null,
            "overflow_x": null,
            "overflow_y": null,
            "padding": null,
            "right": null,
            "top": null,
            "visibility": null,
            "width": null
          }
        },
        "34e9fe6201bb4e46b899cbf3356d9b89": {
          "model_module": "@jupyter-widgets/controls",
          "model_name": "DescriptionStyleModel",
          "model_module_version": "1.5.0",
          "state": {
            "_model_module": "@jupyter-widgets/controls",
            "_model_module_version": "1.5.0",
            "_model_name": "DescriptionStyleModel",
            "_view_count": null,
            "_view_module": "@jupyter-widgets/base",
            "_view_module_version": "1.2.0",
            "_view_name": "StyleView",
            "description_width": ""
          }
        },
        "3838414d190740fe86c25528aa98261a": {
          "model_module": "@jupyter-widgets/controls",
          "model_name": "HBoxModel",
          "model_module_version": "1.5.0",
          "state": {
            "_dom_classes": [],
            "_model_module": "@jupyter-widgets/controls",
            "_model_module_version": "1.5.0",
            "_model_name": "HBoxModel",
            "_view_count": null,
            "_view_module": "@jupyter-widgets/controls",
            "_view_module_version": "1.5.0",
            "_view_name": "HBoxView",
            "box_style": "",
            "children": [
              "IPY_MODEL_82d87123f07d43a6922657bb93cd10e2",
              "IPY_MODEL_0e956600a5d3444fa9503203820c2ef3",
              "IPY_MODEL_e0bbe730ad3347c9b7f0a84be81d18aa"
            ],
            "layout": "IPY_MODEL_a31ba52b39a541bab951faf5f6d9b7a4"
          }
        },
        "82d87123f07d43a6922657bb93cd10e2": {
          "model_module": "@jupyter-widgets/controls",
          "model_name": "HTMLModel",
          "model_module_version": "1.5.0",
          "state": {
            "_dom_classes": [],
            "_model_module": "@jupyter-widgets/controls",
            "_model_module_version": "1.5.0",
            "_model_name": "HTMLModel",
            "_view_count": null,
            "_view_module": "@jupyter-widgets/controls",
            "_view_module_version": "1.5.0",
            "_view_name": "HTMLView",
            "description": "",
            "description_tooltip": null,
            "layout": "IPY_MODEL_bd207698004c4443877bda0a7f76b061",
            "placeholder": "​",
            "style": "IPY_MODEL_c7dde48379e94690a4347cd38dabb63e",
            "value": ""
          }
        },
        "0e956600a5d3444fa9503203820c2ef3": {
          "model_module": "@jupyter-widgets/controls",
          "model_name": "FloatProgressModel",
          "model_module_version": "1.5.0",
          "state": {
            "_dom_classes": [],
            "_model_module": "@jupyter-widgets/controls",
            "_model_module_version": "1.5.0",
            "_model_name": "FloatProgressModel",
            "_view_count": null,
            "_view_module": "@jupyter-widgets/controls",
            "_view_module_version": "1.5.0",
            "_view_name": "ProgressView",
            "bar_style": "info",
            "description": "",
            "description_tooltip": null,
            "layout": "IPY_MODEL_e1b64898259d4fdb8943bf5891837506",
            "max": 1,
            "min": 0,
            "orientation": "horizontal",
            "style": "IPY_MODEL_bcbb7cfaa07648c8aec2a130752a031b",
            "value": 1
          }
        },
        "e0bbe730ad3347c9b7f0a84be81d18aa": {
          "model_module": "@jupyter-widgets/controls",
          "model_name": "HTMLModel",
          "model_module_version": "1.5.0",
          "state": {
            "_dom_classes": [],
            "_model_module": "@jupyter-widgets/controls",
            "_model_module_version": "1.5.0",
            "_model_name": "HTMLModel",
            "_view_count": null,
            "_view_module": "@jupyter-widgets/controls",
            "_view_module_version": "1.5.0",
            "_view_name": "HTMLView",
            "description": "",
            "description_tooltip": null,
            "layout": "IPY_MODEL_dbcfce4799284f3997fef64b62f3d4b7",
            "placeholder": "​",
            "style": "IPY_MODEL_c9923b9cc7a84bcea5fe861e2499a8f5",
            "value": " 11917/0 [00:13&lt;00:00, 984.35 examples/s]"
          }
        },
        "a31ba52b39a541bab951faf5f6d9b7a4": {
          "model_module": "@jupyter-widgets/base",
          "model_name": "LayoutModel",
          "model_module_version": "1.2.0",
          "state": {
            "_model_module": "@jupyter-widgets/base",
            "_model_module_version": "1.2.0",
            "_model_name": "LayoutModel",
            "_view_count": null,
            "_view_module": "@jupyter-widgets/base",
            "_view_module_version": "1.2.0",
            "_view_name": "LayoutView",
            "align_content": null,
            "align_items": null,
            "align_self": null,
            "border": null,
            "bottom": null,
            "display": null,
            "flex": null,
            "flex_flow": null,
            "grid_area": null,
            "grid_auto_columns": null,
            "grid_auto_flow": null,
            "grid_auto_rows": null,
            "grid_column": null,
            "grid_gap": null,
            "grid_row": null,
            "grid_template_areas": null,
            "grid_template_columns": null,
            "grid_template_rows": null,
            "height": null,
            "justify_content": null,
            "justify_items": null,
            "left": null,
            "margin": null,
            "max_height": null,
            "max_width": null,
            "min_height": null,
            "min_width": null,
            "object_fit": null,
            "object_position": null,
            "order": null,
            "overflow": null,
            "overflow_x": null,
            "overflow_y": null,
            "padding": null,
            "right": null,
            "top": null,
            "visibility": null,
            "width": null
          }
        },
        "bd207698004c4443877bda0a7f76b061": {
          "model_module": "@jupyter-widgets/base",
          "model_name": "LayoutModel",
          "model_module_version": "1.2.0",
          "state": {
            "_model_module": "@jupyter-widgets/base",
            "_model_module_version": "1.2.0",
            "_model_name": "LayoutModel",
            "_view_count": null,
            "_view_module": "@jupyter-widgets/base",
            "_view_module_version": "1.2.0",
            "_view_name": "LayoutView",
            "align_content": null,
            "align_items": null,
            "align_self": null,
            "border": null,
            "bottom": null,
            "display": null,
            "flex": null,
            "flex_flow": null,
            "grid_area": null,
            "grid_auto_columns": null,
            "grid_auto_flow": null,
            "grid_auto_rows": null,
            "grid_column": null,
            "grid_gap": null,
            "grid_row": null,
            "grid_template_areas": null,
            "grid_template_columns": null,
            "grid_template_rows": null,
            "height": null,
            "justify_content": null,
            "justify_items": null,
            "left": null,
            "margin": null,
            "max_height": null,
            "max_width": null,
            "min_height": null,
            "min_width": null,
            "object_fit": null,
            "object_position": null,
            "order": null,
            "overflow": null,
            "overflow_x": null,
            "overflow_y": null,
            "padding": null,
            "right": null,
            "top": null,
            "visibility": null,
            "width": null
          }
        },
        "c7dde48379e94690a4347cd38dabb63e": {
          "model_module": "@jupyter-widgets/controls",
          "model_name": "DescriptionStyleModel",
          "model_module_version": "1.5.0",
          "state": {
            "_model_module": "@jupyter-widgets/controls",
            "_model_module_version": "1.5.0",
            "_model_name": "DescriptionStyleModel",
            "_view_count": null,
            "_view_module": "@jupyter-widgets/base",
            "_view_module_version": "1.2.0",
            "_view_name": "StyleView",
            "description_width": ""
          }
        },
        "e1b64898259d4fdb8943bf5891837506": {
          "model_module": "@jupyter-widgets/base",
          "model_name": "LayoutModel",
          "model_module_version": "1.2.0",
          "state": {
            "_model_module": "@jupyter-widgets/base",
            "_model_module_version": "1.2.0",
            "_model_name": "LayoutModel",
            "_view_count": null,
            "_view_module": "@jupyter-widgets/base",
            "_view_module_version": "1.2.0",
            "_view_name": "LayoutView",
            "align_content": null,
            "align_items": null,
            "align_self": null,
            "border": null,
            "bottom": null,
            "display": null,
            "flex": null,
            "flex_flow": null,
            "grid_area": null,
            "grid_auto_columns": null,
            "grid_auto_flow": null,
            "grid_auto_rows": null,
            "grid_column": null,
            "grid_gap": null,
            "grid_row": null,
            "grid_template_areas": null,
            "grid_template_columns": null,
            "grid_template_rows": null,
            "height": null,
            "justify_content": null,
            "justify_items": null,
            "left": null,
            "margin": null,
            "max_height": null,
            "max_width": null,
            "min_height": null,
            "min_width": null,
            "object_fit": null,
            "object_position": null,
            "order": null,
            "overflow": null,
            "overflow_x": null,
            "overflow_y": null,
            "padding": null,
            "right": null,
            "top": null,
            "visibility": null,
            "width": "20px"
          }
        },
        "bcbb7cfaa07648c8aec2a130752a031b": {
          "model_module": "@jupyter-widgets/controls",
          "model_name": "ProgressStyleModel",
          "model_module_version": "1.5.0",
          "state": {
            "_model_module": "@jupyter-widgets/controls",
            "_model_module_version": "1.5.0",
            "_model_name": "ProgressStyleModel",
            "_view_count": null,
            "_view_module": "@jupyter-widgets/base",
            "_view_module_version": "1.2.0",
            "_view_name": "StyleView",
            "bar_color": null,
            "description_width": ""
          }
        },
        "dbcfce4799284f3997fef64b62f3d4b7": {
          "model_module": "@jupyter-widgets/base",
          "model_name": "LayoutModel",
          "model_module_version": "1.2.0",
          "state": {
            "_model_module": "@jupyter-widgets/base",
            "_model_module_version": "1.2.0",
            "_model_name": "LayoutModel",
            "_view_count": null,
            "_view_module": "@jupyter-widgets/base",
            "_view_module_version": "1.2.0",
            "_view_name": "LayoutView",
            "align_content": null,
            "align_items": null,
            "align_self": null,
            "border": null,
            "bottom": null,
            "display": null,
            "flex": null,
            "flex_flow": null,
            "grid_area": null,
            "grid_auto_columns": null,
            "grid_auto_flow": null,
            "grid_auto_rows": null,
            "grid_column": null,
            "grid_gap": null,
            "grid_row": null,
            "grid_template_areas": null,
            "grid_template_columns": null,
            "grid_template_rows": null,
            "height": null,
            "justify_content": null,
            "justify_items": null,
            "left": null,
            "margin": null,
            "max_height": null,
            "max_width": null,
            "min_height": null,
            "min_width": null,
            "object_fit": null,
            "object_position": null,
            "order": null,
            "overflow": null,
            "overflow_x": null,
            "overflow_y": null,
            "padding": null,
            "right": null,
            "top": null,
            "visibility": null,
            "width": null
          }
        },
        "c9923b9cc7a84bcea5fe861e2499a8f5": {
          "model_module": "@jupyter-widgets/controls",
          "model_name": "DescriptionStyleModel",
          "model_module_version": "1.5.0",
          "state": {
            "_model_module": "@jupyter-widgets/controls",
            "_model_module_version": "1.5.0",
            "_model_name": "DescriptionStyleModel",
            "_view_count": null,
            "_view_module": "@jupyter-widgets/base",
            "_view_module_version": "1.2.0",
            "_view_name": "StyleView",
            "description_width": ""
          }
        },
        "de5dcdfde7d441d9aba9f0387cf272e9": {
          "model_module": "@jupyter-widgets/controls",
          "model_name": "HBoxModel",
          "model_module_version": "1.5.0",
          "state": {
            "_dom_classes": [],
            "_model_module": "@jupyter-widgets/controls",
            "_model_module_version": "1.5.0",
            "_model_name": "HBoxModel",
            "_view_count": null,
            "_view_module": "@jupyter-widgets/controls",
            "_view_module_version": "1.5.0",
            "_view_name": "HBoxView",
            "box_style": "",
            "children": [
              "IPY_MODEL_1b07d2d7f2554c09903f49f0ec8f35cd",
              "IPY_MODEL_4d33e9fb35be4f16b0906ac12e9fba70",
              "IPY_MODEL_63ba6de7117a4bd3b0be0c40249cf876"
            ],
            "layout": "IPY_MODEL_f3148586761949d49b62ead77b0665ca"
          }
        },
        "1b07d2d7f2554c09903f49f0ec8f35cd": {
          "model_module": "@jupyter-widgets/controls",
          "model_name": "HTMLModel",
          "model_module_version": "1.5.0",
          "state": {
            "_dom_classes": [],
            "_model_module": "@jupyter-widgets/controls",
            "_model_module_version": "1.5.0",
            "_model_name": "HTMLModel",
            "_view_count": null,
            "_view_module": "@jupyter-widgets/controls",
            "_view_module_version": "1.5.0",
            "_view_name": "HTMLView",
            "description": "",
            "description_tooltip": null,
            "layout": "IPY_MODEL_f255044b1ab84871acb629704f4d4e45",
            "placeholder": "​",
            "style": "IPY_MODEL_42dae655b61a4dd6997fc6de3cc3179f",
            "value": "100%"
          }
        },
        "4d33e9fb35be4f16b0906ac12e9fba70": {
          "model_module": "@jupyter-widgets/controls",
          "model_name": "FloatProgressModel",
          "model_module_version": "1.5.0",
          "state": {
            "_dom_classes": [],
            "_model_module": "@jupyter-widgets/controls",
            "_model_module_version": "1.5.0",
            "_model_name": "FloatProgressModel",
            "_view_count": null,
            "_view_module": "@jupyter-widgets/controls",
            "_view_module_version": "1.5.0",
            "_view_name": "ProgressView",
            "bar_style": "danger",
            "description": "",
            "description_tooltip": null,
            "layout": "IPY_MODEL_b78b72134e4d42fb9b84a88d60c037c8",
            "max": 12000,
            "min": 0,
            "orientation": "horizontal",
            "style": "IPY_MODEL_b7b6ae4190eb46c59f3dfd6d12d47893",
            "value": 11999
          }
        },
        "63ba6de7117a4bd3b0be0c40249cf876": {
          "model_module": "@jupyter-widgets/controls",
          "model_name": "HTMLModel",
          "model_module_version": "1.5.0",
          "state": {
            "_dom_classes": [],
            "_model_module": "@jupyter-widgets/controls",
            "_model_module_version": "1.5.0",
            "_model_name": "HTMLModel",
            "_view_count": null,
            "_view_module": "@jupyter-widgets/controls",
            "_view_module_version": "1.5.0",
            "_view_name": "HTMLView",
            "description": "",
            "description_tooltip": null,
            "layout": "IPY_MODEL_e1dd78ea67c948269d0cf6ea771b3757",
            "placeholder": "​",
            "style": "IPY_MODEL_d86c3b430ef448a79012cddd9727772e",
            "value": " 11999/12000 [00:01&lt;00:00, 7659.09 examples/s]"
          }
        },
        "f3148586761949d49b62ead77b0665ca": {
          "model_module": "@jupyter-widgets/base",
          "model_name": "LayoutModel",
          "model_module_version": "1.2.0",
          "state": {
            "_model_module": "@jupyter-widgets/base",
            "_model_module_version": "1.2.0",
            "_model_name": "LayoutModel",
            "_view_count": null,
            "_view_module": "@jupyter-widgets/base",
            "_view_module_version": "1.2.0",
            "_view_name": "LayoutView",
            "align_content": null,
            "align_items": null,
            "align_self": null,
            "border": null,
            "bottom": null,
            "display": null,
            "flex": null,
            "flex_flow": null,
            "grid_area": null,
            "grid_auto_columns": null,
            "grid_auto_flow": null,
            "grid_auto_rows": null,
            "grid_column": null,
            "grid_gap": null,
            "grid_row": null,
            "grid_template_areas": null,
            "grid_template_columns": null,
            "grid_template_rows": null,
            "height": null,
            "justify_content": null,
            "justify_items": null,
            "left": null,
            "margin": null,
            "max_height": null,
            "max_width": null,
            "min_height": null,
            "min_width": null,
            "object_fit": null,
            "object_position": null,
            "order": null,
            "overflow": null,
            "overflow_x": null,
            "overflow_y": null,
            "padding": null,
            "right": null,
            "top": null,
            "visibility": null,
            "width": null
          }
        },
        "f255044b1ab84871acb629704f4d4e45": {
          "model_module": "@jupyter-widgets/base",
          "model_name": "LayoutModel",
          "model_module_version": "1.2.0",
          "state": {
            "_model_module": "@jupyter-widgets/base",
            "_model_module_version": "1.2.0",
            "_model_name": "LayoutModel",
            "_view_count": null,
            "_view_module": "@jupyter-widgets/base",
            "_view_module_version": "1.2.0",
            "_view_name": "LayoutView",
            "align_content": null,
            "align_items": null,
            "align_self": null,
            "border": null,
            "bottom": null,
            "display": null,
            "flex": null,
            "flex_flow": null,
            "grid_area": null,
            "grid_auto_columns": null,
            "grid_auto_flow": null,
            "grid_auto_rows": null,
            "grid_column": null,
            "grid_gap": null,
            "grid_row": null,
            "grid_template_areas": null,
            "grid_template_columns": null,
            "grid_template_rows": null,
            "height": null,
            "justify_content": null,
            "justify_items": null,
            "left": null,
            "margin": null,
            "max_height": null,
            "max_width": null,
            "min_height": null,
            "min_width": null,
            "object_fit": null,
            "object_position": null,
            "order": null,
            "overflow": null,
            "overflow_x": null,
            "overflow_y": null,
            "padding": null,
            "right": null,
            "top": null,
            "visibility": null,
            "width": null
          }
        },
        "42dae655b61a4dd6997fc6de3cc3179f": {
          "model_module": "@jupyter-widgets/controls",
          "model_name": "DescriptionStyleModel",
          "model_module_version": "1.5.0",
          "state": {
            "_model_module": "@jupyter-widgets/controls",
            "_model_module_version": "1.5.0",
            "_model_name": "DescriptionStyleModel",
            "_view_count": null,
            "_view_module": "@jupyter-widgets/base",
            "_view_module_version": "1.2.0",
            "_view_name": "StyleView",
            "description_width": ""
          }
        },
        "b78b72134e4d42fb9b84a88d60c037c8": {
          "model_module": "@jupyter-widgets/base",
          "model_name": "LayoutModel",
          "model_module_version": "1.2.0",
          "state": {
            "_model_module": "@jupyter-widgets/base",
            "_model_module_version": "1.2.0",
            "_model_name": "LayoutModel",
            "_view_count": null,
            "_view_module": "@jupyter-widgets/base",
            "_view_module_version": "1.2.0",
            "_view_name": "LayoutView",
            "align_content": null,
            "align_items": null,
            "align_self": null,
            "border": null,
            "bottom": null,
            "display": null,
            "flex": null,
            "flex_flow": null,
            "grid_area": null,
            "grid_auto_columns": null,
            "grid_auto_flow": null,
            "grid_auto_rows": null,
            "grid_column": null,
            "grid_gap": null,
            "grid_row": null,
            "grid_template_areas": null,
            "grid_template_columns": null,
            "grid_template_rows": null,
            "height": null,
            "justify_content": null,
            "justify_items": null,
            "left": null,
            "margin": null,
            "max_height": null,
            "max_width": null,
            "min_height": null,
            "min_width": null,
            "object_fit": null,
            "object_position": null,
            "order": null,
            "overflow": null,
            "overflow_x": null,
            "overflow_y": null,
            "padding": null,
            "right": null,
            "top": null,
            "visibility": null,
            "width": null
          }
        },
        "b7b6ae4190eb46c59f3dfd6d12d47893": {
          "model_module": "@jupyter-widgets/controls",
          "model_name": "ProgressStyleModel",
          "model_module_version": "1.5.0",
          "state": {
            "_model_module": "@jupyter-widgets/controls",
            "_model_module_version": "1.5.0",
            "_model_name": "ProgressStyleModel",
            "_view_count": null,
            "_view_module": "@jupyter-widgets/base",
            "_view_module_version": "1.2.0",
            "_view_name": "StyleView",
            "bar_color": null,
            "description_width": ""
          }
        },
        "e1dd78ea67c948269d0cf6ea771b3757": {
          "model_module": "@jupyter-widgets/base",
          "model_name": "LayoutModel",
          "model_module_version": "1.2.0",
          "state": {
            "_model_module": "@jupyter-widgets/base",
            "_model_module_version": "1.2.0",
            "_model_name": "LayoutModel",
            "_view_count": null,
            "_view_module": "@jupyter-widgets/base",
            "_view_module_version": "1.2.0",
            "_view_name": "LayoutView",
            "align_content": null,
            "align_items": null,
            "align_self": null,
            "border": null,
            "bottom": null,
            "display": null,
            "flex": null,
            "flex_flow": null,
            "grid_area": null,
            "grid_auto_columns": null,
            "grid_auto_flow": null,
            "grid_auto_rows": null,
            "grid_column": null,
            "grid_gap": null,
            "grid_row": null,
            "grid_template_areas": null,
            "grid_template_columns": null,
            "grid_template_rows": null,
            "height": null,
            "justify_content": null,
            "justify_items": null,
            "left": null,
            "margin": null,
            "max_height": null,
            "max_width": null,
            "min_height": null,
            "min_width": null,
            "object_fit": null,
            "object_position": null,
            "order": null,
            "overflow": null,
            "overflow_x": null,
            "overflow_y": null,
            "padding": null,
            "right": null,
            "top": null,
            "visibility": null,
            "width": null
          }
        },
        "d86c3b430ef448a79012cddd9727772e": {
          "model_module": "@jupyter-widgets/controls",
          "model_name": "DescriptionStyleModel",
          "model_module_version": "1.5.0",
          "state": {
            "_model_module": "@jupyter-widgets/controls",
            "_model_module_version": "1.5.0",
            "_model_name": "DescriptionStyleModel",
            "_view_count": null,
            "_view_module": "@jupyter-widgets/base",
            "_view_module_version": "1.2.0",
            "_view_name": "StyleView",
            "description_width": ""
          }
        },
        "231bd60cbc5c4dd2b77d7a5280331063": {
          "model_module": "@jupyter-widgets/controls",
          "model_name": "HBoxModel",
          "model_module_version": "1.5.0",
          "state": {
            "_dom_classes": [],
            "_model_module": "@jupyter-widgets/controls",
            "_model_module_version": "1.5.0",
            "_model_name": "HBoxModel",
            "_view_count": null,
            "_view_module": "@jupyter-widgets/controls",
            "_view_module_version": "1.5.0",
            "_view_name": "HBoxView",
            "box_style": "",
            "children": [
              "IPY_MODEL_f9f7b4071eff44f281ff0ca443dea0e1",
              "IPY_MODEL_0afcedba39774da9a4d27eab17230367",
              "IPY_MODEL_d2d20ff4299a4104b79c573ae7892c8a"
            ],
            "layout": "IPY_MODEL_d45ccefb8db04523b9ae1133f5a71f5b"
          }
        },
        "f9f7b4071eff44f281ff0ca443dea0e1": {
          "model_module": "@jupyter-widgets/controls",
          "model_name": "HTMLModel",
          "model_module_version": "1.5.0",
          "state": {
            "_dom_classes": [],
            "_model_module": "@jupyter-widgets/controls",
            "_model_module_version": "1.5.0",
            "_model_name": "HTMLModel",
            "_view_count": null,
            "_view_module": "@jupyter-widgets/controls",
            "_view_module_version": "1.5.0",
            "_view_name": "HTMLView",
            "description": "",
            "description_tooltip": null,
            "layout": "IPY_MODEL_cd87ee64585d4ebbae0e58b3c7a86dd2",
            "placeholder": "​",
            "style": "IPY_MODEL_1aaa59a72e0a4614b0d034a45fcebe18",
            "value": ""
          }
        },
        "0afcedba39774da9a4d27eab17230367": {
          "model_module": "@jupyter-widgets/controls",
          "model_name": "FloatProgressModel",
          "model_module_version": "1.5.0",
          "state": {
            "_dom_classes": [],
            "_model_module": "@jupyter-widgets/controls",
            "_model_module_version": "1.5.0",
            "_model_name": "FloatProgressModel",
            "_view_count": null,
            "_view_module": "@jupyter-widgets/controls",
            "_view_module_version": "1.5.0",
            "_view_name": "ProgressView",
            "bar_style": "info",
            "description": "",
            "description_tooltip": null,
            "layout": "IPY_MODEL_4cf4a23510014791a7d5e49c1aa76948",
            "max": 1,
            "min": 0,
            "orientation": "horizontal",
            "style": "IPY_MODEL_4b18ef7735394fac99c763e849b047ce",
            "value": 1
          }
        },
        "d2d20ff4299a4104b79c573ae7892c8a": {
          "model_module": "@jupyter-widgets/controls",
          "model_name": "HTMLModel",
          "model_module_version": "1.5.0",
          "state": {
            "_dom_classes": [],
            "_model_module": "@jupyter-widgets/controls",
            "_model_module_version": "1.5.0",
            "_model_name": "HTMLModel",
            "_view_count": null,
            "_view_module": "@jupyter-widgets/controls",
            "_view_module_version": "1.5.0",
            "_view_name": "HTMLView",
            "description": "",
            "description_tooltip": null,
            "layout": "IPY_MODEL_0dda7f62473849ceb0409fc2151b59d0",
            "placeholder": "​",
            "style": "IPY_MODEL_0fd7b0565ddc492aa84eda0d784a3c2a",
            "value": " 8560/0 [00:09&lt;00:00, 760.78 examples/s]"
          }
        },
        "d45ccefb8db04523b9ae1133f5a71f5b": {
          "model_module": "@jupyter-widgets/base",
          "model_name": "LayoutModel",
          "model_module_version": "1.2.0",
          "state": {
            "_model_module": "@jupyter-widgets/base",
            "_model_module_version": "1.2.0",
            "_model_name": "LayoutModel",
            "_view_count": null,
            "_view_module": "@jupyter-widgets/base",
            "_view_module_version": "1.2.0",
            "_view_name": "LayoutView",
            "align_content": null,
            "align_items": null,
            "align_self": null,
            "border": null,
            "bottom": null,
            "display": null,
            "flex": null,
            "flex_flow": null,
            "grid_area": null,
            "grid_auto_columns": null,
            "grid_auto_flow": null,
            "grid_auto_rows": null,
            "grid_column": null,
            "grid_gap": null,
            "grid_row": null,
            "grid_template_areas": null,
            "grid_template_columns": null,
            "grid_template_rows": null,
            "height": null,
            "justify_content": null,
            "justify_items": null,
            "left": null,
            "margin": null,
            "max_height": null,
            "max_width": null,
            "min_height": null,
            "min_width": null,
            "object_fit": null,
            "object_position": null,
            "order": null,
            "overflow": null,
            "overflow_x": null,
            "overflow_y": null,
            "padding": null,
            "right": null,
            "top": null,
            "visibility": null,
            "width": null
          }
        },
        "cd87ee64585d4ebbae0e58b3c7a86dd2": {
          "model_module": "@jupyter-widgets/base",
          "model_name": "LayoutModel",
          "model_module_version": "1.2.0",
          "state": {
            "_model_module": "@jupyter-widgets/base",
            "_model_module_version": "1.2.0",
            "_model_name": "LayoutModel",
            "_view_count": null,
            "_view_module": "@jupyter-widgets/base",
            "_view_module_version": "1.2.0",
            "_view_name": "LayoutView",
            "align_content": null,
            "align_items": null,
            "align_self": null,
            "border": null,
            "bottom": null,
            "display": null,
            "flex": null,
            "flex_flow": null,
            "grid_area": null,
            "grid_auto_columns": null,
            "grid_auto_flow": null,
            "grid_auto_rows": null,
            "grid_column": null,
            "grid_gap": null,
            "grid_row": null,
            "grid_template_areas": null,
            "grid_template_columns": null,
            "grid_template_rows": null,
            "height": null,
            "justify_content": null,
            "justify_items": null,
            "left": null,
            "margin": null,
            "max_height": null,
            "max_width": null,
            "min_height": null,
            "min_width": null,
            "object_fit": null,
            "object_position": null,
            "order": null,
            "overflow": null,
            "overflow_x": null,
            "overflow_y": null,
            "padding": null,
            "right": null,
            "top": null,
            "visibility": null,
            "width": null
          }
        },
        "1aaa59a72e0a4614b0d034a45fcebe18": {
          "model_module": "@jupyter-widgets/controls",
          "model_name": "DescriptionStyleModel",
          "model_module_version": "1.5.0",
          "state": {
            "_model_module": "@jupyter-widgets/controls",
            "_model_module_version": "1.5.0",
            "_model_name": "DescriptionStyleModel",
            "_view_count": null,
            "_view_module": "@jupyter-widgets/base",
            "_view_module_version": "1.2.0",
            "_view_name": "StyleView",
            "description_width": ""
          }
        },
        "4cf4a23510014791a7d5e49c1aa76948": {
          "model_module": "@jupyter-widgets/base",
          "model_name": "LayoutModel",
          "model_module_version": "1.2.0",
          "state": {
            "_model_module": "@jupyter-widgets/base",
            "_model_module_version": "1.2.0",
            "_model_name": "LayoutModel",
            "_view_count": null,
            "_view_module": "@jupyter-widgets/base",
            "_view_module_version": "1.2.0",
            "_view_name": "LayoutView",
            "align_content": null,
            "align_items": null,
            "align_self": null,
            "border": null,
            "bottom": null,
            "display": null,
            "flex": null,
            "flex_flow": null,
            "grid_area": null,
            "grid_auto_columns": null,
            "grid_auto_flow": null,
            "grid_auto_rows": null,
            "grid_column": null,
            "grid_gap": null,
            "grid_row": null,
            "grid_template_areas": null,
            "grid_template_columns": null,
            "grid_template_rows": null,
            "height": null,
            "justify_content": null,
            "justify_items": null,
            "left": null,
            "margin": null,
            "max_height": null,
            "max_width": null,
            "min_height": null,
            "min_width": null,
            "object_fit": null,
            "object_position": null,
            "order": null,
            "overflow": null,
            "overflow_x": null,
            "overflow_y": null,
            "padding": null,
            "right": null,
            "top": null,
            "visibility": null,
            "width": "20px"
          }
        },
        "4b18ef7735394fac99c763e849b047ce": {
          "model_module": "@jupyter-widgets/controls",
          "model_name": "ProgressStyleModel",
          "model_module_version": "1.5.0",
          "state": {
            "_model_module": "@jupyter-widgets/controls",
            "_model_module_version": "1.5.0",
            "_model_name": "ProgressStyleModel",
            "_view_count": null,
            "_view_module": "@jupyter-widgets/base",
            "_view_module_version": "1.2.0",
            "_view_name": "StyleView",
            "bar_color": null,
            "description_width": ""
          }
        },
        "0dda7f62473849ceb0409fc2151b59d0": {
          "model_module": "@jupyter-widgets/base",
          "model_name": "LayoutModel",
          "model_module_version": "1.2.0",
          "state": {
            "_model_module": "@jupyter-widgets/base",
            "_model_module_version": "1.2.0",
            "_model_name": "LayoutModel",
            "_view_count": null,
            "_view_module": "@jupyter-widgets/base",
            "_view_module_version": "1.2.0",
            "_view_name": "LayoutView",
            "align_content": null,
            "align_items": null,
            "align_self": null,
            "border": null,
            "bottom": null,
            "display": null,
            "flex": null,
            "flex_flow": null,
            "grid_area": null,
            "grid_auto_columns": null,
            "grid_auto_flow": null,
            "grid_auto_rows": null,
            "grid_column": null,
            "grid_gap": null,
            "grid_row": null,
            "grid_template_areas": null,
            "grid_template_columns": null,
            "grid_template_rows": null,
            "height": null,
            "justify_content": null,
            "justify_items": null,
            "left": null,
            "margin": null,
            "max_height": null,
            "max_width": null,
            "min_height": null,
            "min_width": null,
            "object_fit": null,
            "object_position": null,
            "order": null,
            "overflow": null,
            "overflow_x": null,
            "overflow_y": null,
            "padding": null,
            "right": null,
            "top": null,
            "visibility": null,
            "width": null
          }
        },
        "0fd7b0565ddc492aa84eda0d784a3c2a": {
          "model_module": "@jupyter-widgets/controls",
          "model_name": "DescriptionStyleModel",
          "model_module_version": "1.5.0",
          "state": {
            "_model_module": "@jupyter-widgets/controls",
            "_model_module_version": "1.5.0",
            "_model_name": "DescriptionStyleModel",
            "_view_count": null,
            "_view_module": "@jupyter-widgets/base",
            "_view_module_version": "1.2.0",
            "_view_name": "StyleView",
            "description_width": ""
          }
        },
        "630a727446c446c39de057d88aa84319": {
          "model_module": "@jupyter-widgets/controls",
          "model_name": "HBoxModel",
          "model_module_version": "1.5.0",
          "state": {
            "_dom_classes": [],
            "_model_module": "@jupyter-widgets/controls",
            "_model_module_version": "1.5.0",
            "_model_name": "HBoxModel",
            "_view_count": null,
            "_view_module": "@jupyter-widgets/controls",
            "_view_module_version": "1.5.0",
            "_view_name": "HBoxView",
            "box_style": "",
            "children": [
              "IPY_MODEL_44b3c78474f24f3f86131799d0e19f6f",
              "IPY_MODEL_b041b0882a1a4bc9bc7b9e526cb0ed9c",
              "IPY_MODEL_436720f43da940ea9b6bfefd805233da"
            ],
            "layout": "IPY_MODEL_d10de2884ce444e99a7d013f858a4928"
          }
        },
        "44b3c78474f24f3f86131799d0e19f6f": {
          "model_module": "@jupyter-widgets/controls",
          "model_name": "HTMLModel",
          "model_module_version": "1.5.0",
          "state": {
            "_dom_classes": [],
            "_model_module": "@jupyter-widgets/controls",
            "_model_module_version": "1.5.0",
            "_model_name": "HTMLModel",
            "_view_count": null,
            "_view_module": "@jupyter-widgets/controls",
            "_view_module_version": "1.5.0",
            "_view_name": "HTMLView",
            "description": "",
            "description_tooltip": null,
            "layout": "IPY_MODEL_98a7b84668294b3a88453b060b400a0f",
            "placeholder": "​",
            "style": "IPY_MODEL_87532c8e03bf46569666ba676cfef81c",
            "value": "100%"
          }
        },
        "b041b0882a1a4bc9bc7b9e526cb0ed9c": {
          "model_module": "@jupyter-widgets/controls",
          "model_name": "FloatProgressModel",
          "model_module_version": "1.5.0",
          "state": {
            "_dom_classes": [],
            "_model_module": "@jupyter-widgets/controls",
            "_model_module_version": "1.5.0",
            "_model_name": "FloatProgressModel",
            "_view_count": null,
            "_view_module": "@jupyter-widgets/controls",
            "_view_module_version": "1.5.0",
            "_view_name": "ProgressView",
            "bar_style": "danger",
            "description": "",
            "description_tooltip": null,
            "layout": "IPY_MODEL_b9ace875dea14186829b1612953e1354",
            "max": 8580,
            "min": 0,
            "orientation": "horizontal",
            "style": "IPY_MODEL_2c304c54cdfb4678831d8db7ea23a023",
            "value": 8579
          }
        },
        "436720f43da940ea9b6bfefd805233da": {
          "model_module": "@jupyter-widgets/controls",
          "model_name": "HTMLModel",
          "model_module_version": "1.5.0",
          "state": {
            "_dom_classes": [],
            "_model_module": "@jupyter-widgets/controls",
            "_model_module_version": "1.5.0",
            "_model_name": "HTMLModel",
            "_view_count": null,
            "_view_module": "@jupyter-widgets/controls",
            "_view_module_version": "1.5.0",
            "_view_name": "HTMLView",
            "description": "",
            "description_tooltip": null,
            "layout": "IPY_MODEL_60ac390ac6b54f87bb4c8a6388b35c63",
            "placeholder": "​",
            "style": "IPY_MODEL_e77a93a2bada46a19439d376d0707146",
            "value": " 8579/8580 [00:00&lt;00:00, 12212.36 examples/s]"
          }
        },
        "d10de2884ce444e99a7d013f858a4928": {
          "model_module": "@jupyter-widgets/base",
          "model_name": "LayoutModel",
          "model_module_version": "1.2.0",
          "state": {
            "_model_module": "@jupyter-widgets/base",
            "_model_module_version": "1.2.0",
            "_model_name": "LayoutModel",
            "_view_count": null,
            "_view_module": "@jupyter-widgets/base",
            "_view_module_version": "1.2.0",
            "_view_name": "LayoutView",
            "align_content": null,
            "align_items": null,
            "align_self": null,
            "border": null,
            "bottom": null,
            "display": null,
            "flex": null,
            "flex_flow": null,
            "grid_area": null,
            "grid_auto_columns": null,
            "grid_auto_flow": null,
            "grid_auto_rows": null,
            "grid_column": null,
            "grid_gap": null,
            "grid_row": null,
            "grid_template_areas": null,
            "grid_template_columns": null,
            "grid_template_rows": null,
            "height": null,
            "justify_content": null,
            "justify_items": null,
            "left": null,
            "margin": null,
            "max_height": null,
            "max_width": null,
            "min_height": null,
            "min_width": null,
            "object_fit": null,
            "object_position": null,
            "order": null,
            "overflow": null,
            "overflow_x": null,
            "overflow_y": null,
            "padding": null,
            "right": null,
            "top": null,
            "visibility": null,
            "width": null
          }
        },
        "98a7b84668294b3a88453b060b400a0f": {
          "model_module": "@jupyter-widgets/base",
          "model_name": "LayoutModel",
          "model_module_version": "1.2.0",
          "state": {
            "_model_module": "@jupyter-widgets/base",
            "_model_module_version": "1.2.0",
            "_model_name": "LayoutModel",
            "_view_count": null,
            "_view_module": "@jupyter-widgets/base",
            "_view_module_version": "1.2.0",
            "_view_name": "LayoutView",
            "align_content": null,
            "align_items": null,
            "align_self": null,
            "border": null,
            "bottom": null,
            "display": null,
            "flex": null,
            "flex_flow": null,
            "grid_area": null,
            "grid_auto_columns": null,
            "grid_auto_flow": null,
            "grid_auto_rows": null,
            "grid_column": null,
            "grid_gap": null,
            "grid_row": null,
            "grid_template_areas": null,
            "grid_template_columns": null,
            "grid_template_rows": null,
            "height": null,
            "justify_content": null,
            "justify_items": null,
            "left": null,
            "margin": null,
            "max_height": null,
            "max_width": null,
            "min_height": null,
            "min_width": null,
            "object_fit": null,
            "object_position": null,
            "order": null,
            "overflow": null,
            "overflow_x": null,
            "overflow_y": null,
            "padding": null,
            "right": null,
            "top": null,
            "visibility": null,
            "width": null
          }
        },
        "87532c8e03bf46569666ba676cfef81c": {
          "model_module": "@jupyter-widgets/controls",
          "model_name": "DescriptionStyleModel",
          "model_module_version": "1.5.0",
          "state": {
            "_model_module": "@jupyter-widgets/controls",
            "_model_module_version": "1.5.0",
            "_model_name": "DescriptionStyleModel",
            "_view_count": null,
            "_view_module": "@jupyter-widgets/base",
            "_view_module_version": "1.2.0",
            "_view_name": "StyleView",
            "description_width": ""
          }
        },
        "b9ace875dea14186829b1612953e1354": {
          "model_module": "@jupyter-widgets/base",
          "model_name": "LayoutModel",
          "model_module_version": "1.2.0",
          "state": {
            "_model_module": "@jupyter-widgets/base",
            "_model_module_version": "1.2.0",
            "_model_name": "LayoutModel",
            "_view_count": null,
            "_view_module": "@jupyter-widgets/base",
            "_view_module_version": "1.2.0",
            "_view_name": "LayoutView",
            "align_content": null,
            "align_items": null,
            "align_self": null,
            "border": null,
            "bottom": null,
            "display": null,
            "flex": null,
            "flex_flow": null,
            "grid_area": null,
            "grid_auto_columns": null,
            "grid_auto_flow": null,
            "grid_auto_rows": null,
            "grid_column": null,
            "grid_gap": null,
            "grid_row": null,
            "grid_template_areas": null,
            "grid_template_columns": null,
            "grid_template_rows": null,
            "height": null,
            "justify_content": null,
            "justify_items": null,
            "left": null,
            "margin": null,
            "max_height": null,
            "max_width": null,
            "min_height": null,
            "min_width": null,
            "object_fit": null,
            "object_position": null,
            "order": null,
            "overflow": null,
            "overflow_x": null,
            "overflow_y": null,
            "padding": null,
            "right": null,
            "top": null,
            "visibility": null,
            "width": null
          }
        },
        "2c304c54cdfb4678831d8db7ea23a023": {
          "model_module": "@jupyter-widgets/controls",
          "model_name": "ProgressStyleModel",
          "model_module_version": "1.5.0",
          "state": {
            "_model_module": "@jupyter-widgets/controls",
            "_model_module_version": "1.5.0",
            "_model_name": "ProgressStyleModel",
            "_view_count": null,
            "_view_module": "@jupyter-widgets/base",
            "_view_module_version": "1.2.0",
            "_view_name": "StyleView",
            "bar_color": null,
            "description_width": ""
          }
        },
        "60ac390ac6b54f87bb4c8a6388b35c63": {
          "model_module": "@jupyter-widgets/base",
          "model_name": "LayoutModel",
          "model_module_version": "1.2.0",
          "state": {
            "_model_module": "@jupyter-widgets/base",
            "_model_module_version": "1.2.0",
            "_model_name": "LayoutModel",
            "_view_count": null,
            "_view_module": "@jupyter-widgets/base",
            "_view_module_version": "1.2.0",
            "_view_name": "LayoutView",
            "align_content": null,
            "align_items": null,
            "align_self": null,
            "border": null,
            "bottom": null,
            "display": null,
            "flex": null,
            "flex_flow": null,
            "grid_area": null,
            "grid_auto_columns": null,
            "grid_auto_flow": null,
            "grid_auto_rows": null,
            "grid_column": null,
            "grid_gap": null,
            "grid_row": null,
            "grid_template_areas": null,
            "grid_template_columns": null,
            "grid_template_rows": null,
            "height": null,
            "justify_content": null,
            "justify_items": null,
            "left": null,
            "margin": null,
            "max_height": null,
            "max_width": null,
            "min_height": null,
            "min_width": null,
            "object_fit": null,
            "object_position": null,
            "order": null,
            "overflow": null,
            "overflow_x": null,
            "overflow_y": null,
            "padding": null,
            "right": null,
            "top": null,
            "visibility": null,
            "width": null
          }
        },
        "e77a93a2bada46a19439d376d0707146": {
          "model_module": "@jupyter-widgets/controls",
          "model_name": "DescriptionStyleModel",
          "model_module_version": "1.5.0",
          "state": {
            "_model_module": "@jupyter-widgets/controls",
            "_model_module_version": "1.5.0",
            "_model_name": "DescriptionStyleModel",
            "_view_count": null,
            "_view_module": "@jupyter-widgets/base",
            "_view_module_version": "1.2.0",
            "_view_name": "StyleView",
            "description_width": ""
          }
        }
      }
    }
  },
  "cells": [
    {
      "cell_type": "markdown",
      "source": [
        "1. Augmentation 적용한 데이터 셋 만들기\n",
        "    \n",
        "     1.1 데이터 불러오기\n",
        "\n",
        "     1.2 기본 Augmentation을 적용\n",
        "\n",
        "     1.3 Cutmix Augmentation\n",
        "\n",
        "     1.4 Mixup Augmentation\n",
        "\n",
        "     1.5 데이터 셋 만들기\n",
        "\n",
        "2. 모델 만들기\n",
        "\n",
        "3. 모델 훈련하기\n",
        "\n",
        "4. 훈련과정 시각화 하기\n",
        "\n",
        "5. Augmentation 성능 비교하기"
      ],
      "metadata": {
        "id": "RXeiPDHlW61_"
      }
    },
    {
      "cell_type": "markdown",
      "source": [
        "회고\n",
        "\n",
        " - Cutmix Augmentation 학습중 오류가 났는데 왜 발생했는지 잘 모르겠다. \n",
        "\n",
        "- Cutmix 와 Mixup 등 여러 Augmentation 기법에 대해 공부할 수 있었다\n",
        " "
      ],
      "metadata": {
        "id": "dYeFEK-S9ChR"
      }
    },
    {
      "cell_type": "markdown",
      "source": [
        "## Augmentation 적용한 데이터 셋 만들기\n",
        "\n",
        "1.1 데이터 불러오기"
      ],
      "metadata": {
        "id": "AHBCeES50W4l"
      }
    },
    {
      "cell_type": "code",
      "execution_count": null,
      "metadata": {
        "colab": {
          "base_uri": "https://localhost:8080/"
        },
        "id": "48g3p9klMaRd",
        "outputId": "69daf796-9264-4bac-a76a-8ac15710fc77"
      },
      "outputs": [
        {
          "output_type": "stream",
          "name": "stdout",
          "text": [
            "=3\n"
          ]
        }
      ],
      "source": [
        "# TensorFlow and tf.keras\n",
        "import tensorflow as tf\n",
        "from tensorflow import keras\n",
        "\n",
        "# Helper libraries\n",
        "import numpy as np\n",
        "import matplotlib.pyplot as plt\n",
        "\n",
        "import tensorflow_datasets as tfds\n",
        "\n",
        "print('=3')"
      ]
    },
    {
      "cell_type": "code",
      "source": [
        "tf.config.list_physical_devices('GPU')"
      ],
      "metadata": {
        "colab": {
          "base_uri": "https://localhost:8080/"
        },
        "id": "SHFYwMQBms1h",
        "outputId": "04a56f66-8f32-4aaa-f0ba-829442643356"
      },
      "execution_count": null,
      "outputs": [
        {
          "output_type": "execute_result",
          "data": {
            "text/plain": [
              "[PhysicalDevice(name='/physical_device:GPU:0', device_type='GPU')]"
            ]
          },
          "metadata": {},
          "execution_count": 3
        }
      ]
    },
    {
      "cell_type": "code",
      "source": [
        "(ds_train, ds_test), ds_info = tfds.load(\n",
        "    'stanford_dogs',\n",
        "    split=['train', 'test'],\n",
        "    as_supervised=True,\n",
        "    shuffle_files=True,\n",
        "    with_info=True,\n",
        ")\n",
        "print('=3')"
      ],
      "metadata": {
        "colab": {
          "base_uri": "https://localhost:8080/",
          "height": 445,
          "referenced_widgets": [
            "41dee120761e406ab67e5b2c3d3b0b00",
            "268bad55f37e40f9b34aedc61922a1b6",
            "f45ada62c54b46c4adf541249b1cb229",
            "e56ad427168c411f8f984a1479bc0c6b",
            "72232442d5434e06b2f79e6b8000b37d",
            "43d03d5b3f4247a1927863ad8dadde29",
            "6e2172c62cf74db0acf2c3731ca6fe7b",
            "ca5d94f26a97415382d66e0e3f6ab545",
            "07862df811664d65a07305ca86a1a46c",
            "a55ee3cdb2da4c5082c45cdc2b28766e",
            "03ff73d4e7aa4819bcf032d48d5052c2",
            "358cd6e9e19f47a0a711d577741b540d",
            "f03993153ce94855b38f77b0facb283d",
            "c3eaba56680744608de201265fe173c6",
            "d5be5c8fbac54cd0b6b8256556905d2a",
            "2261a2f1c2ce494788a8ddbbb7ec36cc",
            "619467635569482487255050c069c2ad",
            "c0b62a6e277f408b8cab776d3609855d",
            "ab95a93b09994dd585a4d7f00294b156",
            "2095e7df417e422b8efc574c0067df4d",
            "e472aa307a244419be972335bd0f5dde",
            "92a5c549b38a47b8a06b2ddf4b478fca",
            "8d413d0cada345f6a4bf69e304a2ade2",
            "7772b47f6312462eabfbf53a47d859fd",
            "1b1761ab8b914cd08c897976dda49cd0",
            "37b8ea5993bb43cca9cf29b48bc31ad5",
            "5629b9d334e14eacbc28bb93dc654fe7",
            "e07bfb3c4b8c4bfcaf4711c7cd349c02",
            "b6f93d7a68ef49bf8bf46b3c1a339c4d",
            "1fd5b0c152434ac88f6d92c044744b64",
            "c2b8c7de47654d4489f312efd3e2c0a3",
            "1b6292ec537d457492a933239c492717",
            "182a1f3f968b40c38920c259ab8999c8",
            "e760cb1a227b49c78a32dd40de7cf8a4",
            "25f1d6930dc243f39588a2a20c1ee9fe",
            "f05e1f56ada94811bcccab3314fe11f2",
            "c9ccf596fa744b94ac2b5f645e641597",
            "696cdc2245a04c83aab50a6293c6b7f1",
            "90f454ee4f7e4f73b509980bca606d08",
            "a0bb0caae0e646d0bdb5b1d62fec7de6",
            "a1b2942ef5c8447a85f908cd9fa99995",
            "5fb31a1c46834fb7a9d371987cfe8306",
            "eca84eb9ca9640f4a5438ced4a3c4c64",
            "fef32eee5cb74161bd2fad0c48e45c01",
            "498bdec4a1ca4f1a80c5a95d03fd3c49",
            "a24dce2e4a4a400a909b664306866d00",
            "06edcb33e4694b848c6369b9c94c6148",
            "135c56f08f634e7ea9fa522e3a77eeaf",
            "8830ce472cdd44a8835fdb756dd9003f",
            "ec2069e0ca2c49349cd2b5c9ee3fa7d4",
            "c108352e802c449b91359a8c3818b4ba",
            "bffc94cab6ff4ff7a3960549a298d2e1",
            "2d386de8308f4c49b17ade0ee88828ba",
            "cb86c3dffa3a4297b07133ea3bc6413a",
            "34e9fe6201bb4e46b899cbf3356d9b89",
            "3838414d190740fe86c25528aa98261a",
            "82d87123f07d43a6922657bb93cd10e2",
            "0e956600a5d3444fa9503203820c2ef3",
            "e0bbe730ad3347c9b7f0a84be81d18aa",
            "a31ba52b39a541bab951faf5f6d9b7a4",
            "bd207698004c4443877bda0a7f76b061",
            "c7dde48379e94690a4347cd38dabb63e",
            "e1b64898259d4fdb8943bf5891837506",
            "bcbb7cfaa07648c8aec2a130752a031b",
            "dbcfce4799284f3997fef64b62f3d4b7",
            "c9923b9cc7a84bcea5fe861e2499a8f5",
            "de5dcdfde7d441d9aba9f0387cf272e9",
            "1b07d2d7f2554c09903f49f0ec8f35cd",
            "4d33e9fb35be4f16b0906ac12e9fba70",
            "63ba6de7117a4bd3b0be0c40249cf876",
            "f3148586761949d49b62ead77b0665ca",
            "f255044b1ab84871acb629704f4d4e45",
            "42dae655b61a4dd6997fc6de3cc3179f",
            "b78b72134e4d42fb9b84a88d60c037c8",
            "b7b6ae4190eb46c59f3dfd6d12d47893",
            "e1dd78ea67c948269d0cf6ea771b3757",
            "d86c3b430ef448a79012cddd9727772e",
            "231bd60cbc5c4dd2b77d7a5280331063",
            "f9f7b4071eff44f281ff0ca443dea0e1",
            "0afcedba39774da9a4d27eab17230367",
            "d2d20ff4299a4104b79c573ae7892c8a",
            "d45ccefb8db04523b9ae1133f5a71f5b",
            "cd87ee64585d4ebbae0e58b3c7a86dd2",
            "1aaa59a72e0a4614b0d034a45fcebe18",
            "4cf4a23510014791a7d5e49c1aa76948",
            "4b18ef7735394fac99c763e849b047ce",
            "0dda7f62473849ceb0409fc2151b59d0",
            "0fd7b0565ddc492aa84eda0d784a3c2a",
            "630a727446c446c39de057d88aa84319",
            "44b3c78474f24f3f86131799d0e19f6f",
            "b041b0882a1a4bc9bc7b9e526cb0ed9c",
            "436720f43da940ea9b6bfefd805233da",
            "d10de2884ce444e99a7d013f858a4928",
            "98a7b84668294b3a88453b060b400a0f",
            "87532c8e03bf46569666ba676cfef81c",
            "b9ace875dea14186829b1612953e1354",
            "2c304c54cdfb4678831d8db7ea23a023",
            "60ac390ac6b54f87bb4c8a6388b35c63",
            "e77a93a2bada46a19439d376d0707146"
          ]
        },
        "id": "_V4xp1eBM1qJ",
        "outputId": "da7236af-6e1e-49f6-867a-ca8e54a891e4"
      },
      "execution_count": null,
      "outputs": [
        {
          "output_type": "stream",
          "name": "stdout",
          "text": [
            "\u001b[1mDownloading and preparing dataset stanford_dogs/0.2.0 (download: 778.12 MiB, generated: Unknown size, total: 778.12 MiB) to /root/tensorflow_datasets/stanford_dogs/0.2.0...\u001b[0m\n"
          ]
        },
        {
          "output_type": "display_data",
          "data": {
            "text/plain": [
              "Dl Completed...: 0 url [00:00, ? url/s]"
            ],
            "application/vnd.jupyter.widget-view+json": {
              "version_major": 2,
              "version_minor": 0,
              "model_id": "41dee120761e406ab67e5b2c3d3b0b00"
            }
          },
          "metadata": {}
        },
        {
          "output_type": "display_data",
          "data": {
            "text/plain": [
              "Dl Size...: 0 MiB [00:00, ? MiB/s]"
            ],
            "application/vnd.jupyter.widget-view+json": {
              "version_major": 2,
              "version_minor": 0,
              "model_id": "358cd6e9e19f47a0a711d577741b540d"
            }
          },
          "metadata": {}
        },
        {
          "output_type": "stream",
          "name": "stdout",
          "text": [
            "\n",
            "\n"
          ]
        },
        {
          "output_type": "display_data",
          "data": {
            "text/plain": [
              "Dl Completed...: 0 url [00:00, ? url/s]"
            ],
            "application/vnd.jupyter.widget-view+json": {
              "version_major": 2,
              "version_minor": 0,
              "model_id": "8d413d0cada345f6a4bf69e304a2ade2"
            }
          },
          "metadata": {}
        },
        {
          "output_type": "display_data",
          "data": {
            "text/plain": [
              "Dl Size...: 0 MiB [00:00, ? MiB/s]"
            ],
            "application/vnd.jupyter.widget-view+json": {
              "version_major": 2,
              "version_minor": 0,
              "model_id": "e760cb1a227b49c78a32dd40de7cf8a4"
            }
          },
          "metadata": {}
        },
        {
          "output_type": "display_data",
          "data": {
            "text/plain": [
              "Extraction completed...: 0 file [00:00, ? file/s]"
            ],
            "application/vnd.jupyter.widget-view+json": {
              "version_major": 2,
              "version_minor": 0,
              "model_id": "498bdec4a1ca4f1a80c5a95d03fd3c49"
            }
          },
          "metadata": {}
        },
        {
          "output_type": "stream",
          "name": "stdout",
          "text": [
            "\n",
            "\n",
            "\n"
          ]
        },
        {
          "output_type": "display_data",
          "data": {
            "text/plain": [
              "0 examples [00:00, ? examples/s]"
            ],
            "application/vnd.jupyter.widget-view+json": {
              "version_major": 2,
              "version_minor": 0,
              "model_id": "3838414d190740fe86c25528aa98261a"
            }
          },
          "metadata": {}
        },
        {
          "output_type": "stream",
          "name": "stdout",
          "text": [
            "Shuffling and writing examples to /root/tensorflow_datasets/stanford_dogs/0.2.0.incompleteMFHM4W/stanford_dogs-train.tfrecord\n"
          ]
        },
        {
          "output_type": "display_data",
          "data": {
            "text/plain": [
              "  0%|          | 0/12000 [00:00<?, ? examples/s]"
            ],
            "application/vnd.jupyter.widget-view+json": {
              "version_major": 2,
              "version_minor": 0,
              "model_id": "de5dcdfde7d441d9aba9f0387cf272e9"
            }
          },
          "metadata": {}
        },
        {
          "output_type": "display_data",
          "data": {
            "text/plain": [
              "0 examples [00:00, ? examples/s]"
            ],
            "application/vnd.jupyter.widget-view+json": {
              "version_major": 2,
              "version_minor": 0,
              "model_id": "231bd60cbc5c4dd2b77d7a5280331063"
            }
          },
          "metadata": {}
        },
        {
          "output_type": "stream",
          "name": "stdout",
          "text": [
            "Shuffling and writing examples to /root/tensorflow_datasets/stanford_dogs/0.2.0.incompleteMFHM4W/stanford_dogs-test.tfrecord\n"
          ]
        },
        {
          "output_type": "display_data",
          "data": {
            "text/plain": [
              "  0%|          | 0/8580 [00:00<?, ? examples/s]"
            ],
            "application/vnd.jupyter.widget-view+json": {
              "version_major": 2,
              "version_minor": 0,
              "model_id": "630a727446c446c39de057d88aa84319"
            }
          },
          "metadata": {}
        },
        {
          "output_type": "stream",
          "name": "stdout",
          "text": [
            "\u001b[1mDataset stanford_dogs downloaded and prepared to /root/tensorflow_datasets/stanford_dogs/0.2.0. Subsequent calls will reuse this data.\u001b[0m\n",
            "=3\n"
          ]
        }
      ]
    },
    {
      "cell_type": "code",
      "source": [
        "fig = tfds.show_examples(ds_train, ds_info)  # 다운로드한 데이터 확인"
      ],
      "metadata": {
        "colab": {
          "base_uri": "https://localhost:8080/",
          "height": 534
        },
        "id": "Au7zOAMmO2yF",
        "outputId": "a5a9f409-9b36-488b-8951-2bba5d39195e"
      },
      "execution_count": null,
      "outputs": [
        {
          "output_type": "display_data",
          "data": {
            "text/plain": [
              "<Figure size 648x648 with 9 Axes>"
            ],
            "image/png": "[encoded data removed]"
          },
          "metadata": {}
        }
      ]
    },
    {
      "cell_type": "markdown",
      "source": [
        "1.2 기본 Augmentation 적용하기"
      ],
      "metadata": {
        "id": "ENbUtTunPS3Q"
      }
    },
    {
      "cell_type": "code",
      "source": [
        "#  Augmentation을 적용하기에 앞서 기본적인 전처리 함수를 만들어 줍니다\n",
        "\n",
        "def normalize_and_resize_img(image, label):\n",
        "    # Normalizes images: `uint8` -> `float32`\n",
        "    image = tf.image.resize(image, [224, 224])\n",
        "    return tf.cast(image, tf.float32) / 255., label  # (0 - 1 사이에 픽셀값으로 만들어 준다) "
      ],
      "metadata": {
        "id": "wOLV0NwBPWVO"
      },
      "execution_count": null,
      "outputs": []
    },
    {
      "cell_type": "code",
      "source": [
        "def augment(image,label):\n",
        "    image = tf.image.random_flip_left_right(image)    # 좌우대칭\n",
        "    image = tf.image.random_brightness(image, max_delta=0.2) # 밝기 조절\n",
        "    image = tf.clip_by_value(image, 0, 1)\n",
        "    return image, label"
      ],
      "metadata": {
        "id": "U34bH_FOtW_p"
      },
      "execution_count": null,
      "outputs": []
    },
    {
      "cell_type": "code",
      "source": [
        "# 데이터셋(ds)을 가공하는 메인함수\n",
        "# 일반적인 전처리 과정, 즉 normalize, resize, augmentation과 shuffle을 적용하도록 하겠습니다.\n",
        "# 이후에 수행할 비교실험을 위해서 with_aug 매개변수를 통해 augmentation의 적용여부를 결정할 수 있도록 하겠습니다.\n",
        "def apply_normalize_on_dataset(ds, is_test=False, batch_size=16, with_aug=False):\n",
        "    ds = ds.map(\n",
        "        normalize_and_resize_img,  # 기본적인 전처리 함수 적용\n",
        "        num_parallel_calls=2\n",
        "    )\n",
        "    if not is_test and with_aug:\n",
        "        ds = ds.map(\n",
        "            augment,       # augment 함수 적용\n",
        "            num_parallel_calls=2  # 매개변수를 설정하여 map 변환을 병렬 처리한다. \n",
        "        )\n",
        "    ds = ds.batch(batch_size)\n",
        "    if not is_test:\n",
        "        ds = ds.repeat()\n",
        "        ds = ds.shuffle(200)\n",
        "    ds = ds.prefetch(tf.data.experimental.AUTOTUNE)  # tf.data 런타임에 가용되는 병렬화 수준 결정\n",
        "    return ds"
      ],
      "metadata": {
        "id": "c6NCSfZsSWB3"
      },
      "execution_count": null,
      "outputs": []
    },
    {
      "cell_type": "markdown",
      "source": [
        "- 병렬 매핑: 동일한 전처리 함수를 사용하지만 여러 샘플에 병렬로 적용\n",
        "\n",
        "    - https://ahnjg.tistory.com/32\n",
        "\n",
        "    - https://www.tensorflow.org/guide/data_performance?hl=ko"
      ],
      "metadata": {
        "id": "wUXFijTKjWrT"
      }
    },
    {
      "cell_type": "code",
      "source": [
        "ds_train_no_aug = apply_normalize_on_dataset(ds_train, with_aug=False)"
      ],
      "metadata": {
        "id": "T9kqu3Jd23Zi"
      },
      "execution_count": null,
      "outputs": []
    },
    {
      "cell_type": "markdown",
      "source": [
        "1.3 CutMix"
      ],
      "metadata": {
        "id": "dBeFF-113OaB"
      }
    },
    {
      "cell_type": "code",
      "source": [
        "import matplotlib.pyplot as plt\n",
        "\n",
        "# 데이터셋에서 이미지 2개를 가져옵니다. \n",
        "for i, (image, label) in enumerate(ds_train_no_aug.take(1)):\n",
        "    if i == 0:\n",
        "        image_a = image[0]\n",
        "        image_b = image[1]\n",
        "        label_a = label[0]\n",
        "        label_b = label[1]\n",
        "        break\n",
        "\n",
        "plt.subplot(1,2,1)\n",
        "plt.imshow(image_a)\n",
        "\n",
        "plt.subplot(1,2,2)\n",
        "plt.imshow(image_b)\n",
        "\n",
        "plt.show()"
      ],
      "metadata": {
        "colab": {
          "base_uri": "https://localhost:8080/",
          "height": 204
        },
        "id": "zQzuKrx15BJG",
        "outputId": "247a26f5-474d-40c8-e620-babb0a32834f"
      },
      "execution_count": null,
      "outputs": [
        {
          "output_type": "display_data",
          "data": {
            "text/plain": [
              "<Figure size 432x288 with 2 Axes>"
            ],
            "image/png": "[encoded data removed]"
          },
          "metadata": {
            "needs_background": "light"
          }
        }
      ]
    },
    {
      "cell_type": "code",
      "source": [
        "# 바탕 이미지 a에 삽입될 영역의 바운딩 박스의 위치를 결정하는 함수\n",
        "def get_clip_box(image_a, image_b):\n",
        "    # image.shape = (height, width, channel)\n",
        "    image_size_x = image_a.shape[1]\n",
        "    image_size_y = image_a.shape[0]\n",
        "    \n",
        "    # get center of box\n",
        "    x = tf.cast(tf.random.uniform([], 0, image_size_x), tf.int32)\n",
        "    y = tf.cast(tf.random.uniform([], 0, image_size_y), tf.int32)\n",
        "\n",
        "    # get width, height of box\n",
        "    width = tf.cast(image_size_x*tf.math.sqrt(1-tf.random.uniform([], 0, 1)), tf.int32)\n",
        "    height = tf.cast(image_size_y*tf.math.sqrt(1-tf.random.uniform([], 0, 1)), tf.int32)\n",
        "    \n",
        "    # clip box in image and get minmax bbox\n",
        "    xa = tf.math.maximum(0, x-width//2)\n",
        "    ya = tf.math.maximum(0, y-height//2)\n",
        "    xb = tf.math.minimum(image_size_x, x+width//2)\n",
        "    yb = tf.math.minimum(image_size_y, y+width//2)\n",
        "    \n",
        "    return xa, ya, xb, yb\n",
        "\n",
        "xa, ya, xb, yb = get_clip_box(image_a, image_b)\n",
        "\n",
        "print('x : ', xa, xb)\n",
        "print('y : ', ya, yb)"
      ],
      "metadata": {
        "id": "4n_DrpUgPcgf",
        "colab": {
          "base_uri": "https://localhost:8080/"
        },
        "outputId": "df62a0f8-e409-4f68-a454-4db7f2abcc1c"
      },
      "execution_count": null,
      "outputs": [
        {
          "output_type": "stream",
          "name": "stdout",
          "text": [
            "x :  tf.Tensor(0, shape=(), dtype=int32) tf.Tensor(119, shape=(), dtype=int32)\n",
            "y :  tf.Tensor(0, shape=(), dtype=int32) tf.Tensor(145, shape=(), dtype=int32)\n"
          ]
        }
      ]
    },
    {
      "cell_type": "code",
      "source": [
        "# mix two images\n",
        "def mix_2_images(image_a, image_b, xa, ya, xb, yb):\n",
        "    image_size_x = image_a.shape[1]\n",
        "    image_size_y = image_a.shape[0] \n",
        "    middle_left = image_a[ya:yb, 0:xa, :] # image_b의 왼쪽 바깥 영역\n",
        "    middle_center = image_b[ya:yb, xa:xb, :]  # image_b의 안쪽 영역\n",
        "    middle_right = image_a[ya:yb, xa:image_size_x, :] # image_b의 오른쪽 바깥 영역\n",
        "    middle = tf.concat([middle_left,middle_center,middle_right], axis=1)\n",
        "    top = image_a[0:ya, :, :]\n",
        "    bottom = image_a[yb:image_size_y, :, :]\n",
        "    mixed_img = tf.concat([top, middle, bottom],axis=0)\n",
        "    \n",
        "    return mixed_img\n",
        "\n",
        "mixed_img = mix_2_images(image_a, image_b, xa, yb, xa, yb)\n",
        "plt.imshow(mixed_img.numpy())\n",
        "plt.show()"
      ],
      "metadata": {
        "id": "-jL62Zxw5G8S",
        "colab": {
          "base_uri": "https://localhost:8080/",
          "height": 268
        },
        "outputId": "f892b74f-fb2e-46d0-de9b-84b66fbb9a09"
      },
      "execution_count": null,
      "outputs": [
        {
          "output_type": "display_data",
          "data": {
            "text/plain": [
              "<Figure size 432x288 with 1 Axes>"
            ],
            "image/png": "[encoded data removed]"
          },
          "metadata": {
            "needs_background": "light"
          }
        }
      ]
    },
    {
      "cell_type": "code",
      "source": [
        "# mix two labels\n",
        "# 섞인 이미지의 면적에 비례해서 라벨을 섞어주는 함수\n",
        "def mix_2_labels(label_a, label_b, xa, ya, xb, yb, num_classes=120):\n",
        "    image_size_x = image_a.shape[1]\n",
        "    image_size_y = image_a.shape[0] \n",
        "    mixed_area = (xb-xa)*(yb-ya)\n",
        "    total_area = image_size_x*image_size_y\n",
        "    ratio = tf.cast(mixed_area/total_area, tf.float32)\n",
        "\n",
        "    if len(label_a.shape)==0:\n",
        "        label_a = tf.one_hot(label_a, num_classes)\n",
        "    if len(label_b.shape)==0:\n",
        "        label_b = tf.one_hot(label_b, num_classes)\n",
        "    mixed_label = (1-ratio)*label_a + ratio*label_b\n",
        "    return mixed_label\n",
        "\n",
        "mixed_label = mix_2_labels(label_a, label_b, xa, yb, xa, yb)\n",
        "mixed_label"
      ],
      "metadata": {
        "id": "euodN-QD5IvP",
        "colab": {
          "base_uri": "https://localhost:8080/"
        },
        "outputId": "a782d2ad-d621-422d-b2e0-787d9e7f52cb"
      },
      "execution_count": null,
      "outputs": [
        {
          "output_type": "execute_result",
          "data": {
            "text/plain": [
              "<tf.Tensor: shape=(120,), dtype=float32, numpy=\n",
              "array([0., 0., 0., 0., 0., 0., 0., 0., 0., 0., 0., 0., 0., 0., 0., 0., 0.,\n",
              "       0., 0., 0., 0., 0., 0., 0., 0., 0., 0., 0., 0., 0., 0., 0., 0., 0.,\n",
              "       0., 0., 0., 0., 0., 0., 0., 0., 0., 0., 0., 0., 0., 0., 0., 0., 0.,\n",
              "       0., 0., 0., 0., 0., 0., 0., 0., 0., 0., 0., 0., 0., 0., 0., 0., 0.,\n",
              "       0., 0., 0., 0., 0., 0., 0., 0., 0., 0., 0., 0., 0., 0., 0., 0., 0.,\n",
              "       0., 0., 0., 0., 0., 0., 0., 0., 0., 0., 0., 0., 0., 0., 1., 0., 0.,\n",
              "       0., 0., 0., 0., 0., 0., 0., 0., 0., 0., 0., 0., 0., 0., 0., 0., 0.,\n",
              "       0.], dtype=float32)>"
            ]
          },
          "metadata": {},
          "execution_count": 13
        }
      ]
    },
    {
      "cell_type": "code",
      "source": [
        "# 위에서 구현한 두 함수를 활용하여 배치 단위의 cutmix() 구현\n",
        "def cutmix(image, label, prob=1.0, batch_size=16, img_size=224, num_classes=120):\n",
        "    mixed_imgs = []\n",
        "    mixed_labels = []\n",
        "\n",
        "    for i in range(batch_size):\n",
        "        image_a = image[i]\n",
        "        label_a = label[i]\n",
        "        j = tf.cast(tf.random.uniform([],0, batch_size),tf.int32)\n",
        "        image_b = image[j]\n",
        "        label_b = label[j]\n",
        "        xa, yb, xa, yb = get_clip_box(image_a, image_b)\n",
        "        mixed_imgs.append(mix_2_images(image_a, image_b, xa, ya, xb, yb))\n",
        "        mixed_labels.append(mix_2_labels(label_a, label_b, xa, ya, xb, yb))\n",
        "\n",
        "    mixed_imgs = tf.reshape(tf.stack(mixed_imgs), (batch_size, img_size, img_size, 3))\n",
        "    mixed_labels = tf.reshape(tf.stack(mixed_labels), (batch_size, num_classes))\n",
        "    return mixed_imgs, mixed_labels"
      ],
      "metadata": {
        "id": "DZ66KkTN5MNq"
      },
      "execution_count": null,
      "outputs": []
    },
    {
      "cell_type": "markdown",
      "source": [
        "1.4 Mixup"
      ],
      "metadata": {
        "id": "7IFVvpoc6E7L"
      }
    },
    {
      "cell_type": "code",
      "source": [
        "num_classes = ds_info.features[\"label\"].num_classes\n",
        "num_classes"
      ],
      "metadata": {
        "colab": {
          "base_uri": "https://localhost:8080/"
        },
        "id": "-kVdHup86KXd",
        "outputId": "de26a13c-2026-427d-b494-1ff3f6edbe8c"
      },
      "execution_count": null,
      "outputs": [
        {
          "output_type": "execute_result",
          "data": {
            "text/plain": [
              "120"
            ]
          },
          "metadata": {},
          "execution_count": 15
        }
      ]
    },
    {
      "cell_type": "code",
      "source": [
        "# function for mixup\n",
        "def mixup_2_images(image_a, image_b, label_a, label_b):\n",
        "    ratio = tf.random.uniform([], 0, 1)\n",
        "    \n",
        "    if len(label_a.shape)==0:\n",
        "        label_a = tf.one_hot(label_a, num_classes)\n",
        "    if len(label_b.shape)==0:\n",
        "        label_b = tf.one_hot(label_b, num_classes)\n",
        "    mixed_image= (1-ratio)*image_a + ratio*image_b\n",
        "    mixed_label = (1-ratio)*label_a + ratio*label_b\n",
        "    \n",
        "    return mixed_image, mixed_label\n",
        "\n",
        "mixed_img, mixed_label = mixup_2_images(image_a, image_b, label_a, label_b)\n",
        "plt.imshow(mixed_img.numpy())\n",
        "plt.show()\n",
        "print(mixed_label)"
      ],
      "metadata": {
        "id": "BQ99JZTL5Ot0",
        "colab": {
          "base_uri": "https://localhost:8080/",
          "height": 656
        },
        "outputId": "01120b34-95df-4f0b-deb3-f5111fcd9eba"
      },
      "execution_count": null,
      "outputs": [
        {
          "output_type": "display_data",
          "data": {
            "text/plain": [
              "<Figure size 432x288 with 1 Axes>"
            ],
            "image/png": "[encoded data removed]"
          },
          "metadata": {
            "needs_background": "light"
          }
        },
        {
          "output_type": "stream",
          "name": "stdout",
          "text": [
            "tf.Tensor(\n",
            "[0.         0.         0.         0.         0.         0.\n",
            " 0.         0.         0.         0.         0.         0.\n",
            " 0.         0.         0.         0.         0.         0.\n",
            " 0.         0.         0.         0.         0.         0.\n",
            " 0.         0.         0.         0.         0.         0.\n",
            " 0.         0.         0.         0.         0.         0.\n",
            " 0.         0.         0.         0.         0.         0.\n",
            " 0.         0.         0.         0.         0.         0.\n",
            " 0.         0.         0.         0.         0.         0.\n",
            " 0.         0.         0.         0.         0.         0.\n",
            " 0.         0.         0.         0.         0.         0.\n",
            " 0.         0.         0.         0.         0.         0.\n",
            " 0.         0.         0.         0.         0.         0.\n",
            " 0.         0.         0.         0.         0.         0.60064924\n",
            " 0.         0.         0.         0.         0.         0.\n",
            " 0.         0.         0.         0.         0.         0.\n",
            " 0.         0.         0.         0.39935076 0.         0.\n",
            " 0.         0.         0.         0.         0.         0.\n",
            " 0.         0.         0.         0.         0.         0.\n",
            " 0.         0.         0.         0.         0.         0.        ], shape=(120,), dtype=float32)\n"
          ]
        }
      ]
    },
    {
      "cell_type": "code",
      "source": [
        "def mixup(image, label, prob=1.0, batch_size=16, img_size=224, num_classes=120):\n",
        "    mixed_imgs = []\n",
        "    mixed_labels = []\n",
        "\n",
        "    for i in range(batch_size):\n",
        "        image_a = image[i]\n",
        "        label_a = label[i]\n",
        "        j = tf.cast(tf.random.uniform([],0,batch_size), tf.int32)\n",
        "        image_b = image[j]\n",
        "        label_b = label[j]\n",
        "        mixed_img, mixed_label = mixup_2_images(image_a, image_b, label_a, label_b)\n",
        "        mixed_imgs.append(mixed_img)\n",
        "        mixed_labels.append(mixed_label)\n",
        "\n",
        "    mixed_imgs = tf.reshape(tf.stack(mixed_imgs), (batch_size, img_size, img_size, 3))\n",
        "    mixed_labels = tf.reshape(tf.stack(mixed_labels), (batch_size, num_classes))\n",
        "    return mixed_imgs, mixed_labels"
      ],
      "metadata": {
        "id": "WLE5hrDE5S39"
      },
      "execution_count": null,
      "outputs": []
    },
    {
      "cell_type": "markdown",
      "source": [
        "1.5 데이터셋 만들기"
      ],
      "metadata": {
        "id": "yHjtpViu65H6"
      }
    },
    {
      "cell_type": "code",
      "source": [
        "def onehot(image, label):\n",
        "    label = tf.one_hot(label, num_classes)\n",
        "    return image, label"
      ],
      "metadata": {
        "id": "wQrI6nK961dk"
      },
      "execution_count": null,
      "outputs": []
    },
    {
      "cell_type": "code",
      "source": [
        "# 배치 단위로 데이터셋을 정렬 후 cutmix와 mixup을 적용할 수 있도록 수정한 함수\n",
        "def apply_normalize_on_dataset(ds, is_test=False, batch_size=16, with_aug=False,with_cutmix=False, with_mixup=False):\n",
        "  ds = ds.map(\n",
        "      normalize_and_resize_img,\n",
        "      num_parallel_calls=2\n",
        "  )\n",
        "  if not is_test and with_aug:\n",
        "      ds = ds.map(\n",
        "          augment\n",
        "      )\n",
        "  ds = ds.batch(batch_size)\n",
        "  if not is_test and with_cutmix:\n",
        "      ds = ds.map(\n",
        "          cutmix,\n",
        "          num_parallel_calls=2\n",
        "      )\n",
        "  elif not is_test and with_mixup:\n",
        "      ds = ds.map(\n",
        "          mixup,\n",
        "          num_parallel_calls=2\n",
        "      )\n",
        "  else:\n",
        "      ds = ds.map(\n",
        "          onehot,\n",
        "          num_parallel_calls=2\n",
        "      )\n",
        "  if not is_test:\n",
        "      ds = ds.repeat()\n",
        "      ds = ds.shuffle(200)\n",
        "  ds = ds.prefetch(tf.data.experimental.AUTOTUNE)\n",
        "  return ds"
      ],
      "metadata": {
        "id": "zPhNofVR7Lt4"
      },
      "execution_count": null,
      "outputs": []
    },
    {
      "cell_type": "code",
      "source": [
        "# augmentation이 적용된 데이터셋과 적용되지 않은 데이터셋 생성\n",
        "ds_train_no_aug = apply_normalize_on_dataset(ds_train, with_aug=False)\n",
        "ds_train_aug = apply_normalize_on_dataset(ds_train, with_aug=True)\n",
        "ds_train_cutmix = apply_normalize_on_dataset(ds_train, with_cutmix=True)\n",
        "ds_train_mixup = apply_normalize_on_dataset(ds_train, with_mixup=True)\n",
        "ds_test = apply_normalize_on_dataset(ds_test, is_test = True)"
      ],
      "metadata": {
        "id": "HfsDeCdW-Rdj"
      },
      "execution_count": null,
      "outputs": []
    },
    {
      "cell_type": "markdown",
      "source": [
        "## 2. 모델 만들기"
      ],
      "metadata": {
        "id": "2aPq9DdSDgqK"
      }
    },
    {
      "cell_type": "markdown",
      "source": [
        "- include_top=False :  맨 위에 분류 층이 포함되지 않은 네트워크를 로드하므로 특징 추출에 이상적이다\n",
        "- transfer learning과 유사하게 보일 수도 있지만 pre training된 weight을 내려받어 통과시킨 feature을 그대로 사용하면서 학습시 fully connected계층만 트레이닝 시키는 transfer learning 과는 다르다.\n",
        "\n",
        "출처: https://rarena.tistory.com/42 [deep dev]\n",
        "\n",
        "https://www.tensorflow.org/tutorials/images/transfer_learning?hl=ko"
      ],
      "metadata": {
        "id": "RDoycCfFrN6F"
      }
    },
    {
      "cell_type": "code",
      "source": [
        "# 비교실험 하기\n",
        "# Augmentation 적용 안 한 데이터셋으로 학습시킬 ResNet50\n",
        "resnet50_no_aug = keras.models.Sequential([\n",
        "    keras.applications.resnet.ResNet50(\n",
        "        include_top=False,  # 마지막 fully connected layer 미포함.\n",
        "        weights='imagenet',\n",
        "        input_shape=(224,224,3),\n",
        "        pooling='avg',\n",
        "    ),\n",
        "    keras.layers.Dense(num_classes, activation='softmax')  # 데이터에 맞는 FC layer 붙여서 활용\n",
        "])"
      ],
      "metadata": {
        "id": "JXXC65Uo5U7y",
        "colab": {
          "base_uri": "https://localhost:8080/"
        },
        "outputId": "8edf908f-b335-4134-f379-968118e8583a"
      },
      "execution_count": null,
      "outputs": [
        {
          "output_type": "stream",
          "name": "stdout",
          "text": [
            "Downloading data from https://storage.googleapis.com/tensorflow/keras-applications/resnet/resnet50_weights_tf_dim_ordering_tf_kernels_notop.h5\n",
            "94773248/94765736 [==============================] - 1s 0us/step\n",
            "94781440/94765736 [==============================] - 1s 0us/step\n",
            "=3\n"
          ]
        }
      ]
    },
    {
      "cell_type": "code",
      "source": [
        "# Augmentation 적용한 데이터셋으로 학습시킬 ResNet50\n",
        "resnet50_aug = keras.models.Sequential([\n",
        "    keras.applications.resnet.ResNet50\n",
        "        include_top=False,\n",
        "        weights='imagenet',\n",
        "        input_shape=(224,224,3),\n",
        "        pooling='avg',\n",
        "    ),\n",
        "    keras.layers.Dense(num_classes, activation='softmax')\n",
        "])"
      ],
      "metadata": {
        "id": "vAogANqQ51id",
        "colab": {
          "base_uri": "https://localhost:8080/"
        },
        "outputId": "44184321-288f-46d0-fd19-b1cf7fba4072"
      },
      "execution_count": null,
      "outputs": [
        {
          "output_type": "stream",
          "name": "stdout",
          "text": [
            "=3\n"
          ]
        }
      ]
    },
    {
      "cell_type": "code",
      "source": [
        "# cutmix 사용\n",
        "resnet50_cutmix = keras.models.Sequential([\n",
        "    keras.applications.resnet.ResNet50(\n",
        "        include_top=False,\n",
        "        weights='imagenet',\n",
        "        input_shape=(224,224,3),\n",
        "        pooling='avg',\n",
        "    ),\n",
        "    keras.layers.Dense(num_classes, activation='softmax')\n",
        "])"
      ],
      "metadata": {
        "colab": {
          "base_uri": "https://localhost:8080/"
        },
        "id": "XkeUsC1cE70h",
        "outputId": "a65bdc1b-5560-4452-ac4f-453c496be637"
      },
      "execution_count": null,
      "outputs": [
        {
          "output_type": "stream",
          "name": "stdout",
          "text": [
            "=3\n"
          ]
        }
      ]
    },
    {
      "cell_type": "code",
      "source": [
        "# mixup 사용\n",
        "resnet50_mixup = keras.models.Sequential([\n",
        "    keras.applications.resnet.ResNet50(\n",
        "        include_top=False,\n",
        "        weights='imagenet',\n",
        "        input_shape=(224,224,3),\n",
        "        pooling='avg',\n",
        "    ),\n",
        "    keras.layers.Dense(num_classes, activation='softmax')\n",
        "])"
      ],
      "metadata": {
        "colab": {
          "base_uri": "https://localhost:8080/"
        },
        "id": "TkWsJf1rFEYh",
        "outputId": "266d4f8d-3780-4907-efd8-3223f5946279"
      },
      "execution_count": null,
      "outputs": [
        {
          "output_type": "stream",
          "name": "stdout",
          "text": [
            "=3\n"
          ]
        }
      ]
    },
    {
      "cell_type": "markdown",
      "source": [
        "## 3. 모델 훈련하기\n",
        "- cutmix, mixup을 구현하면서 lable 의 mix 때문에 더이상 label 이 스칼라 값을 가지지 못하고 one-hot 벡터 형태로 변환되었기 때문에 spars_categorycal_crossentropy() 대신 categorical_crossentropy 를 사용해야 한다."
      ],
      "metadata": {
        "id": "Bp-1iHceFbZ6"
      }
    },
    {
      "cell_type": "code",
      "source": [
        "EPOCH = 20  # Augentation 적용 효과를 확인하기 위해 필요한 epoch 수\n",
        "\n",
        "tf.random.set_seed(2021)\n",
        "resnet50_no_aug.compile(\n",
        "    loss='categorical_crossentropy',\n",
        "    optimizer=tf.keras.optimizers.SGD(lr=0.01),\n",
        "    metrics=['accuracy'],\n",
        ")\n",
        "\n",
        "resnet50_aug.compile(\n",
        "    loss='categorical_crossentropy',\n",
        "    optimizer=tf.keras.optimizers.SGD(lr=0.01),\n",
        "    metrics=['accuracy'],\n",
        ")\n",
        "\n",
        "resnet50_cutmix.compile(\n",
        "    loss='categorical_crossentropy',\n",
        "    optimizer=tf.keras.optimizers.SGD(lr=0.01),\n",
        "    metrics=['accuracy'],\n",
        ")\n",
        "\n",
        "resnet50_mixup.compile(\n",
        "    loss='categorical_crossentropy',\n",
        "    optimizer=tf.keras.optimizers.SGD(lr=0.01),\n",
        "    metrics=['accuracy'],\n",
        ")"
      ],
      "metadata": {
        "id": "Z9q-wVUl6ONA",
        "colab": {
          "base_uri": "https://localhost:8080/"
        },
        "outputId": "bf14a09d-73b1-4762-ff0f-cc33af2dec58"
      },
      "execution_count": null,
      "outputs": [
        {
          "output_type": "stream",
          "name": "stderr",
          "text": [
            "/usr/local/lib/python3.7/dist-packages/keras/optimizer_v2/gradient_descent.py:102: UserWarning: The `lr` argument is deprecated, use `learning_rate` instead.\n",
            "  super(SGD, self).__init__(name, **kwargs)\n"
          ]
        }
      ]
    },
    {
      "cell_type": "code",
      "source": [
        "history_resnet50_no_aug = resnet50_no_aug.fit(\n",
        "    ds_train_no_aug, # augmentation 적용하지 않은 데이터셋 사용\n",
        "    steps_per_epoch=int(ds_info.splits['train'].num_examples/16),\n",
        "    validation_steps=int(ds_info.splits['test'].num_examples/16),\n",
        "    epochs=EPOCH,\n",
        "    validation_data=ds_test,\n",
        "    verbose=1,\n",
        "    use_multiprocessing=True,\n",
        ")"
      ],
      "metadata": {
        "colab": {
          "base_uri": "https://localhost:8080/"
        },
        "id": "D41Qo8FEG07k",
        "outputId": "b22a85f3-294f-4ca3-a94a-718ef40e7827"
      },
      "execution_count": null,
      "outputs": [
        {
          "output_type": "stream",
          "name": "stdout",
          "text": [
            "Epoch 1/20\n",
            "750/750 [==============================] - 178s 210ms/step - loss: 2.2060 - accuracy: 0.4420 - val_loss: 3.1982 - val_accuracy: 0.2389\n",
            "Epoch 2/20\n",
            "750/750 [==============================] - 161s 215ms/step - loss: 0.7611 - accuracy: 0.7840 - val_loss: 1.0989 - val_accuracy: 0.6758\n",
            "Epoch 3/20\n",
            "750/750 [==============================] - 161s 215ms/step - loss: 0.2411 - accuracy: 0.9479 - val_loss: 0.9453 - val_accuracy: 0.7210\n",
            "Epoch 4/20\n",
            "750/750 [==============================] - 163s 217ms/step - loss: 0.0646 - accuracy: 0.9940 - val_loss: 0.9132 - val_accuracy: 0.7375\n",
            "Epoch 5/20\n",
            "750/750 [==============================] - 162s 216ms/step - loss: 0.0256 - accuracy: 0.9988 - val_loss: 0.8989 - val_accuracy: 0.7481\n",
            "Epoch 6/20\n",
            "750/750 [==============================] - 162s 216ms/step - loss: 0.0137 - accuracy: 0.9999 - val_loss: 0.9076 - val_accuracy: 0.7467\n",
            "Epoch 7/20\n",
            "750/750 [==============================] - 162s 215ms/step - loss: 0.0094 - accuracy: 0.9999 - val_loss: 0.9200 - val_accuracy: 0.7460\n",
            "Epoch 8/20\n",
            "750/750 [==============================] - 161s 215ms/step - loss: 0.0097 - accuracy: 0.9998 - val_loss: 0.9517 - val_accuracy: 0.7386\n",
            "Epoch 9/20\n",
            "750/750 [==============================] - 162s 215ms/step - loss: 0.0287 - accuracy: 0.9977 - val_loss: 1.0174 - val_accuracy: 0.7248\n",
            "Epoch 10/20\n",
            "750/750 [==============================] - 162s 215ms/step - loss: 0.0217 - accuracy: 0.9981 - val_loss: 0.9865 - val_accuracy: 0.7333\n",
            "Epoch 11/20\n",
            "750/750 [==============================] - 161s 215ms/step - loss: 0.0191 - accuracy: 0.9984 - val_loss: 1.0305 - val_accuracy: 0.7267\n",
            "Epoch 12/20\n",
            "750/750 [==============================] - 162s 216ms/step - loss: 0.0144 - accuracy: 0.9989 - val_loss: 0.9792 - val_accuracy: 0.7402\n",
            "Epoch 13/20\n",
            "750/750 [==============================] - 162s 217ms/step - loss: 0.0059 - accuracy: 0.9998 - val_loss: 0.9795 - val_accuracy: 0.7421\n",
            "Epoch 14/20\n",
            "750/750 [==============================] - 163s 217ms/step - loss: 0.0048 - accuracy: 0.9999 - val_loss: 0.9921 - val_accuracy: 0.7409\n",
            "Epoch 15/20\n",
            "750/750 [==============================] - 163s 217ms/step - loss: 0.0044 - accuracy: 0.9998 - val_loss: 1.0080 - val_accuracy: 0.7400\n",
            "Epoch 16/20\n",
            "750/750 [==============================] - 163s 217ms/step - loss: 0.0075 - accuracy: 0.9997 - val_loss: 1.0666 - val_accuracy: 0.7290\n",
            "Epoch 17/20\n",
            "750/750 [==============================] - 163s 217ms/step - loss: 0.0054 - accuracy: 0.9996 - val_loss: 1.0083 - val_accuracy: 0.7417\n",
            "Epoch 18/20\n",
            "750/750 [==============================] - 163s 217ms/step - loss: 0.0054 - accuracy: 0.9998 - val_loss: 1.0062 - val_accuracy: 0.7403\n",
            "Epoch 19/20\n",
            "750/750 [==============================] - 176s 235ms/step - loss: 0.0044 - accuracy: 0.9998 - val_loss: 1.0152 - val_accuracy: 0.7404\n",
            "Epoch 20/20\n",
            "750/750 [==============================] - 163s 217ms/step - loss: 0.0024 - accuracy: 0.9998 - val_loss: 1.0143 - val_accuracy: 0.7416\n"
          ]
        }
      ]
    },
    {
      "cell_type": "code",
      "source": [
        "history_resnet50_aug = resnet50_aug.fit(\n",
        "    ds_train_aug, # augmentation 적용한 데이터셋 사용\n",
        "    steps_per_epoch=int(ds_info.splits['train'].num_examples/16),\n",
        "    validation_steps=int(ds_info.splits['test'].num_examples/16),\n",
        "    epochs=EPOCH,\n",
        "    validation_data=ds_test,\n",
        "    verbose=1,\n",
        "    use_multiprocessing=True,\n",
        ")"
      ],
      "metadata": {
        "colab": {
          "base_uri": "https://localhost:8080/"
        },
        "id": "W79yJf4TVvVh",
        "outputId": "04ce0c09-cd8a-4d64-b02b-0f74a6fbe155"
      },
      "execution_count": null,
      "outputs": [
        {
          "output_type": "stream",
          "name": "stdout",
          "text": [
            "Epoch 1/20\n",
            "750/750 [==============================] - 172s 217ms/step - loss: 2.2943 - accuracy: 0.4270 - val_loss: 3.0639 - val_accuracy: 0.2547\n",
            "Epoch 2/20\n",
            "750/750 [==============================] - 161s 215ms/step - loss: 0.9934 - accuracy: 0.7135 - val_loss: 1.2496 - val_accuracy: 0.6354\n",
            "Epoch 3/20\n",
            "750/750 [==============================] - 161s 215ms/step - loss: 0.5252 - accuracy: 0.8525 - val_loss: 1.0562 - val_accuracy: 0.6897\n",
            "Epoch 4/20\n",
            "750/750 [==============================] - 161s 215ms/step - loss: 0.2916 - accuracy: 0.9301 - val_loss: 1.3783 - val_accuracy: 0.6290\n",
            "Epoch 5/20\n",
            "750/750 [==============================] - 162s 216ms/step - loss: 0.1599 - accuracy: 0.9659 - val_loss: 0.9693 - val_accuracy: 0.7204\n",
            "Epoch 6/20\n",
            "750/750 [==============================] - 162s 216ms/step - loss: 0.0817 - accuracy: 0.9874 - val_loss: 0.9742 - val_accuracy: 0.7282\n",
            "Epoch 7/20\n",
            "750/750 [==============================] - 162s 216ms/step - loss: 0.0481 - accuracy: 0.9939 - val_loss: 0.9824 - val_accuracy: 0.7283\n",
            "Epoch 8/20\n",
            "750/750 [==============================] - 163s 217ms/step - loss: 0.0403 - accuracy: 0.9958 - val_loss: 1.0484 - val_accuracy: 0.7204\n",
            "Epoch 9/20\n",
            "750/750 [==============================] - 163s 217ms/step - loss: 0.0625 - accuracy: 0.9902 - val_loss: 1.0962 - val_accuracy: 0.7067\n",
            "Epoch 10/20\n",
            "750/750 [==============================] - 163s 217ms/step - loss: 0.0386 - accuracy: 0.9953 - val_loss: 1.0575 - val_accuracy: 0.7094\n",
            "Epoch 11/20\n",
            "750/750 [==============================] - 163s 217ms/step - loss: 0.0257 - accuracy: 0.9978 - val_loss: 1.0430 - val_accuracy: 0.7304\n",
            "Epoch 12/20\n",
            "750/750 [==============================] - 162s 216ms/step - loss: 0.0296 - accuracy: 0.9968 - val_loss: 1.0401 - val_accuracy: 0.7290\n",
            "Epoch 13/20\n",
            "750/750 [==============================] - 163s 218ms/step - loss: 0.0260 - accuracy: 0.9969 - val_loss: 1.0080 - val_accuracy: 0.7357\n",
            "Epoch 14/20\n",
            "750/750 [==============================] - 163s 217ms/step - loss: 0.0141 - accuracy: 0.9987 - val_loss: 0.9979 - val_accuracy: 0.7399\n",
            "Epoch 15/20\n",
            "750/750 [==============================] - 176s 235ms/step - loss: 0.0084 - accuracy: 0.9994 - val_loss: 0.9969 - val_accuracy: 0.7427\n",
            "Epoch 16/20\n",
            "750/750 [==============================] - 163s 217ms/step - loss: 0.0075 - accuracy: 0.9995 - val_loss: 0.9922 - val_accuracy: 0.7455\n",
            "Epoch 17/20\n",
            "750/750 [==============================] - 176s 235ms/step - loss: 0.0074 - accuracy: 0.9994 - val_loss: 1.0122 - val_accuracy: 0.7445\n",
            "Epoch 18/20\n",
            "750/750 [==============================] - 163s 217ms/step - loss: 0.0090 - accuracy: 0.9996 - val_loss: 1.0245 - val_accuracy: 0.7448\n",
            "Epoch 19/20\n",
            "750/750 [==============================] - 163s 217ms/step - loss: 0.0068 - accuracy: 0.9995 - val_loss: 1.0191 - val_accuracy: 0.7437\n",
            "Epoch 20/20\n",
            "750/750 [==============================] - 163s 217ms/step - loss: 0.0035 - accuracy: 1.0000 - val_loss: 1.0183 - val_accuracy: 0.7460\n"
          ]
        }
      ]
    },
    {
      "cell_type": "code",
      "source": [
        "history_resnet50_cutmix = resnet50_cutmix.fit(\n",
        "    ds_train_cutmix,\n",
        "    steps_per_epoch=int(ds_info.splits['train'].num_examples/16),\n",
        "    validation_steps=int(ds_info.splits['test'].num_examples/16),\n",
        "    epochs=EPOCH,\n",
        "    validation_data=ds_test,\n",
        "    verbose=1,\n",
        "    use_multiprocessing=True,\n",
        "    )"
      ],
      "metadata": {
        "colab": {
          "base_uri": "https://localhost:8080/",
          "height": 660
        },
        "id": "R7Es0-cTVv4g",
        "outputId": "79091044-7962-4505-f83a-1609c3a68836"
      },
      "execution_count": null,
      "outputs": [
        {
          "output_type": "stream",
          "name": "stdout",
          "text": [
            "Epoch 1/20\n"
          ]
        },
        {
          "output_type": "error",
          "ename": "InvalidArgumentError",
          "evalue": "ignored",
          "traceback": [
            "\u001b[0;31m---------------------------------------------------------------------------\u001b[0m",
            "\u001b[0;31mInvalidArgumentError\u001b[0m                      Traceback (most recent call last)",
            "\u001b[0;32m<ipython-input-28-270c10979273>\u001b[0m in \u001b[0;36m<module>\u001b[0;34m()\u001b[0m\n\u001b[1;32m      6\u001b[0m     \u001b[0mvalidation_data\u001b[0m\u001b[0;34m=\u001b[0m\u001b[0mds_test\u001b[0m\u001b[0;34m,\u001b[0m\u001b[0;34m\u001b[0m\u001b[0;34m\u001b[0m\u001b[0m\n\u001b[1;32m      7\u001b[0m     \u001b[0mverbose\u001b[0m\u001b[0;34m=\u001b[0m\u001b[0;36m1\u001b[0m\u001b[0;34m,\u001b[0m\u001b[0;34m\u001b[0m\u001b[0;34m\u001b[0m\u001b[0m\n\u001b[0;32m----> 8\u001b[0;31m     \u001b[0muse_multiprocessing\u001b[0m\u001b[0;34m=\u001b[0m\u001b[0;32mTrue\u001b[0m\u001b[0;34m,\u001b[0m\u001b[0;34m\u001b[0m\u001b[0;34m\u001b[0m\u001b[0m\n\u001b[0m\u001b[1;32m      9\u001b[0m     )\n",
            "\u001b[0;32m/usr/local/lib/python3.7/dist-packages/keras/utils/traceback_utils.py\u001b[0m in \u001b[0;36merror_handler\u001b[0;34m(*args, **kwargs)\u001b[0m\n\u001b[1;32m     65\u001b[0m     \u001b[0;32mexcept\u001b[0m \u001b[0mException\u001b[0m \u001b[0;32mas\u001b[0m \u001b[0me\u001b[0m\u001b[0;34m:\u001b[0m  \u001b[0;31m# pylint: disable=broad-except\u001b[0m\u001b[0;34m\u001b[0m\u001b[0;34m\u001b[0m\u001b[0m\n\u001b[1;32m     66\u001b[0m       \u001b[0mfiltered_tb\u001b[0m \u001b[0;34m=\u001b[0m \u001b[0m_process_traceback_frames\u001b[0m\u001b[0;34m(\u001b[0m\u001b[0me\u001b[0m\u001b[0;34m.\u001b[0m\u001b[0m__traceback__\u001b[0m\u001b[0;34m)\u001b[0m\u001b[0;34m\u001b[0m\u001b[0;34m\u001b[0m\u001b[0m\n\u001b[0;32m---> 67\u001b[0;31m       \u001b[0;32mraise\u001b[0m \u001b[0me\u001b[0m\u001b[0;34m.\u001b[0m\u001b[0mwith_traceback\u001b[0m\u001b[0;34m(\u001b[0m\u001b[0mfiltered_tb\u001b[0m\u001b[0;34m)\u001b[0m \u001b[0;32mfrom\u001b[0m \u001b[0;32mNone\u001b[0m\u001b[0;34m\u001b[0m\u001b[0;34m\u001b[0m\u001b[0m\n\u001b[0m\u001b[1;32m     68\u001b[0m     \u001b[0;32mfinally\u001b[0m\u001b[0;34m:\u001b[0m\u001b[0;34m\u001b[0m\u001b[0;34m\u001b[0m\u001b[0m\n\u001b[1;32m     69\u001b[0m       \u001b[0;32mdel\u001b[0m \u001b[0mfiltered_tb\u001b[0m\u001b[0;34m\u001b[0m\u001b[0;34m\u001b[0m\u001b[0m\n",
            "\u001b[0;32m/usr/local/lib/python3.7/dist-packages/tensorflow/python/eager/execute.py\u001b[0m in \u001b[0;36mquick_execute\u001b[0;34m(op_name, num_outputs, inputs, attrs, ctx, name)\u001b[0m\n\u001b[1;32m     53\u001b[0m     \u001b[0mctx\u001b[0m\u001b[0;34m.\u001b[0m\u001b[0mensure_initialized\u001b[0m\u001b[0;34m(\u001b[0m\u001b[0;34m)\u001b[0m\u001b[0;34m\u001b[0m\u001b[0;34m\u001b[0m\u001b[0m\n\u001b[1;32m     54\u001b[0m     tensors = pywrap_tfe.TFE_Py_Execute(ctx._handle, device_name, op_name,\n\u001b[0;32m---> 55\u001b[0;31m                                         inputs, attrs, num_outputs)\n\u001b[0m\u001b[1;32m     56\u001b[0m   \u001b[0;32mexcept\u001b[0m \u001b[0mcore\u001b[0m\u001b[0;34m.\u001b[0m\u001b[0m_NotOkStatusException\u001b[0m \u001b[0;32mas\u001b[0m \u001b[0me\u001b[0m\u001b[0;34m:\u001b[0m\u001b[0;34m\u001b[0m\u001b[0;34m\u001b[0m\u001b[0m\n\u001b[1;32m     57\u001b[0m     \u001b[0;32mif\u001b[0m \u001b[0mname\u001b[0m \u001b[0;32mis\u001b[0m \u001b[0;32mnot\u001b[0m \u001b[0;32mNone\u001b[0m\u001b[0;34m:\u001b[0m\u001b[0;34m\u001b[0m\u001b[0;34m\u001b[0m\u001b[0m\n",
            "\u001b[0;31mInvalidArgumentError\u001b[0m: Graph execution error:\n\n2 root error(s) found.\n  (0) INVALID_ARGUMENT:  ConcatOp : Dimension 1 in both shapes must be equal: shape[0] = [0,224,3] vs. shape[1] = [140,256,3]\n\t [[{{node concat_11}}]]\n\t [[IteratorGetNext]]\n\t [[IteratorGetNext/_2]]\n  (1) INVALID_ARGUMENT:  ConcatOp : Dimension 1 in both shapes must be equal: shape[0] = [0,224,3] vs. shape[1] = [140,256,3]\n\t [[{{node concat_11}}]]\n\t [[IteratorGetNext]]\n0 successful operations.\n0 derived errors ignored. [Op:__inference_train_function_250913]"
          ]
        }
      ]
    },
    {
      "cell_type": "markdown",
      "source": [
        "- use_multiprocessing=True 자리가 빨간줄 쳐지며 InvalidArgumentError: Graph execution error: 가 떴다..\n",
        "- use_multiprocessing=True 는 fit_generator 에 \n",
        "\n",
        "https://github.com/kec0130/AIFFEL-project/blob/main/goingdeeper/G4_data_augmentation_pjt.ipynb \n",
        "여기 들어가서 다시 공부 해\n"
      ],
      "metadata": {
        "id": "7WhWmUfR0B48"
      }
    },
    {
      "cell_type": "code",
      "source": [
        "history_resnet50_mixup = resnet50_mixup.fit(\n",
        "    ds_train_mixup, \n",
        "    steps_per_epoch=int(ds_info.splits['train'].num_examples/16),\n",
        "    validation_steps=int(ds_info.splits['test'].num_examples/16),\n",
        "    epochs=EPOCH,\n",
        "    validation_data=ds_test,\n",
        "    verbose=1,\n",
        "    use_multiprocessing=True,\n",
        ")"
      ],
      "metadata": {
        "id": "Y2Pihx1XVwXi"
      },
      "execution_count": null,
      "outputs": []
    },
    {
      "cell_type": "markdown",
      "source": [
        "## 4. 훈련 과정 시각화하기"
      ],
      "metadata": {
        "id": "D0lqCsmAWPA4"
      }
    },
    {
      "cell_type": "code",
      "source": [
        "# 훈련 과정을 시각화\n",
        "plt.figure(figsize=(12, 8))\n",
        "plt.plot(history_resnet50_no_aug.history['val_accuracy'], 'r')\n",
        "plt.plot(history_resnet50_aug.history['val_accuracy'], 'b')\n",
        "plt.plot(history_resnet50_cutmix.history['val_accuracy'], 'g')\n",
        "plt.plot(history_resnet50_mixup.history['val_accuracy'], 'k')\n",
        "plt.title('Model validation accuracy')\n",
        "plt.ylabel('Accuracy')\n",
        "plt.xlabel('Epoch')\n",
        "plt.legend(['No Augmentation', 'With Augmentation','With CutMix','With Mixup'], loc='upper left')\n",
        "plt.grid(True)\n",
        "plt.show()"
      ],
      "metadata": {
        "id": "ilHcVz9O6T2Y"
      },
      "execution_count": null,
      "outputs": []
    },
    {
      "cell_type": "code",
      "source": [
        "plt.figure(figsize=(12, 8))\n",
        "plt.plot(history_resnet50_no_aug.history['val_loss'], 'r')\n",
        "plt.plot(history_resnet50_aug.history['val_loss'], 'b')\n",
        "plt.plot(history_resnet50_cutmix.history['val_loss'], 'g')\n",
        "plt.plot(history_resnet50_mixup.history['val_loss'], 'k')\n",
        "plt.title('Model validation loss')\n",
        "plt.ylabel('loss')\n",
        "plt.xlabel('Epoch')\n",
        "plt.legend(['No Augmentation', 'With Augmentation'], loc='upper right')\n",
        "plt.grid(True)\n",
        "plt.show()"
      ],
      "metadata": {
        "id": "bqpfV25R6VsY"
      },
      "execution_count": null,
      "outputs": []
    },
    {
      "cell_type": "markdown",
      "source": [
        "## 5. Augmentation에 의한 모델 성능 비교"
      ],
      "metadata": {
        "id": "CUihSgGZT2px"
      }
    },
    {
      "cell_type": "code",
      "source": [
        "import pandas as pd\n",
        "\n",
        "acc_data = {'No Augmentation': history_resnet50_no_aug.history['val_accuracy'],\n",
        "            'With Augmentation': history_resnet50_aug.history['val_accuracy'],\n",
        "            'With CutMix': history_resnet50_cutmix.history['val_accuracy'],\n",
        "            'With Mixup': history_resnet50_mixup.history['val_accuracy']}\n",
        "acc_df = dp.DataFrame(acc_data)\n",
        "acc_df"
      ],
      "metadata": {
        "id": "SlTc21FjZDc0"
      },
      "execution_count": null,
      "outputs": []
    },
    {
      "cell_type": "code",
      "source": [
        "acc_df.describe()"
      ],
      "metadata": {
        "id": "LDjpv7PvaR8b"
      },
      "execution_count": null,
      "outputs": []
    },
    {
      "cell_type": "markdown",
      "source": [
        "회고 \n",
        "\n",
        "코드참고 https://github.com/kec0130/AIFFEL-project/blob/main/goingdeeper/G4_data_augmentation_pjt.ipynb"
      ],
      "metadata": {
        "id": "GnSs0ifDahBP"
      }
    }
  ]
}